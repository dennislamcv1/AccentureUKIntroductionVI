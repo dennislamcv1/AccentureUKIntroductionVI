{
 "cells": [
  {
   "cell_type": "markdown",
   "metadata": {},
   "source": [
    "# MondoMarket Analysis"
   ]
  },
  {
   "cell_type": "markdown",
   "metadata": {},
   "source": [
    "***"
   ]
  },
  {
   "cell_type": "markdown",
   "metadata": {},
   "source": [
    "## Project Description"
   ]
  },
  {
   "cell_type": "markdown",
   "metadata": {},
   "source": [
    "In this task, it is your job to get up to speed with the background context of MondoMarket and to analyse the datasets containing financial information to uncover a channel with high potential for MondoMarket to exploit for small businesses. There are 2 datasets provided, one contains daily sales data for 10 of MondoMarkets largest competitors within the e-commerce industry. The second contains information about the 10 competitors' monthly costs. "
   ]
  },
  {
   "cell_type": "markdown",
   "metadata": {},
   "source": [
    "## Import Libraries"
   ]
  },
  {
   "cell_type": "code",
   "execution_count": 1,
   "metadata": {},
   "outputs": [
    {
     "data": {
      "application/javascript": [
       "IPython.notebook.set_autosave_interval(60000)"
      ]
     },
     "metadata": {},
     "output_type": "display_data"
    },
    {
     "name": "stdout",
     "output_type": "stream",
     "text": [
      "Autosaving every 60 seconds\n"
     ]
    }
   ],
   "source": [
    "import numpy as np\n",
    "from numpy import count_nonzero, median, mean\n",
    "import pandas as pd\n",
    "import matplotlib.pyplot as plt\n",
    "import seaborn as sns\n",
    "import plotly.express as px\n",
    "import random\n",
    "\n",
    "import statsmodels.api as sm\n",
    "import statsmodels.formula.api as smf\n",
    "from statsmodels.formula.api import ols\n",
    "\n",
    "import datetime\n",
    "from datetime import datetime, timedelta\n",
    "\n",
    "# import eli5\n",
    "# from IPython.display import display\n",
    "\n",
    "#import os\n",
    "#import zipfile\n",
    "import scipy.stats\n",
    "from collections import Counter\n",
    "\n",
    "import sklearn\n",
    "# from sklearn.preprocessing import StandardScaler, MinMaxScaler, LabelEncoder, OneHotEncoder\n",
    "# from sklearn.linear_model import LinearRegression, LogisticRegression, ElasticNet, Lasso, Ridge\n",
    "# from sklearn.model_selection import cross_val_score, train_test_split\n",
    "# from sklearn.metrics import accuracy_score, auc, classification_report, confusion_matrix, f1_score\n",
    "# from sklearn.metrics import plot_confusion_matrix, plot_roc_curve\n",
    "\n",
    "# from sklearn.linear_model import ElasticNet, Lasso, LinearRegression, LogisticRegression, Ridge\n",
    "# from sklearn.tree import DecisionTreeClassifier, DecisionTreeRegressor, ExtraTreeClassifier, ExtraTreeRegressor, plot_tree\n",
    "# from sklearn.svm import SVC, SVR, LinearSVC, LinearSVR\n",
    "# from sklearn.naive_bayes import GaussianNB, MultinomialNB\n",
    "\n",
    "%matplotlib inline\n",
    "#sets the default autosave frequency in seconds\n",
    "%autosave 60 \n",
    "sns.set_style('dark')\n",
    "sns.set(font_scale=1.2)\n",
    "\n",
    "plt.rc('axes', titlesize=9)\n",
    "plt.rc('axes', labelsize=14)\n",
    "plt.rc('xtick', labelsize=12)\n",
    "plt.rc('ytick', labelsize=12)\n",
    "\n",
    "import warnings\n",
    "warnings.filterwarnings('ignore')\n",
    "\n",
    "# Use Feature-Engine library\n",
    "#import feature_engine\n",
    "#from feature_engine import imputation as mdi\n",
    "#from feature_engine.outlier_removers import Winsorizer\n",
    "#from feature_engine import categorical_encoders as ce\n",
    "#from feature_engine.discretisation import EqualWidthDiscretiser, EqualFrequencyDiscretiser\n",
    "#from feature_engine.discretisation import ArbitraryDiscretiser, DecisionTreeDiscretiser\n",
    "#from feature_engine.encoding import OrdinalEncoder\n",
    "\n",
    "pd.set_option('display.max_columns',None)\n",
    "#pd.set_option('display.max_rows',None)\n",
    "pd.set_option('display.width', 1000)\n",
    "pd.set_option('display.float_format','{:.2f}'.format)\n",
    "\n",
    "random.seed(0)\n",
    "np.random.seed(0)\n",
    "np.set_printoptions(suppress=True)"
   ]
  },
  {
   "cell_type": "markdown",
   "metadata": {},
   "source": [
    "## Exploratory Data Analysis"
   ]
  },
  {
   "cell_type": "code",
   "execution_count": 2,
   "metadata": {},
   "outputs": [],
   "source": [
    "df1 = pd.read_csv(\"competitor_daily_sales.csv\", parse_dates=[\"date\"])"
   ]
  },
  {
   "cell_type": "code",
   "execution_count": 3,
   "metadata": {},
   "outputs": [
    {
     "data": {
      "text/html": [
       "<div>\n",
       "<style scoped>\n",
       "    .dataframe tbody tr th:only-of-type {\n",
       "        vertical-align: middle;\n",
       "    }\n",
       "\n",
       "    .dataframe tbody tr th {\n",
       "        vertical-align: top;\n",
       "    }\n",
       "\n",
       "    .dataframe thead th {\n",
       "        text-align: right;\n",
       "    }\n",
       "</style>\n",
       "<table border=\"1\" class=\"dataframe\">\n",
       "  <thead>\n",
       "    <tr style=\"text-align: right;\">\n",
       "      <th></th>\n",
       "      <th>company</th>\n",
       "      <th>date</th>\n",
       "      <th>location</th>\n",
       "      <th>market</th>\n",
       "      <th>channel</th>\n",
       "      <th>product_category</th>\n",
       "      <th>total_sale_amount</th>\n",
       "    </tr>\n",
       "  </thead>\n",
       "  <tbody>\n",
       "    <tr>\n",
       "      <th>0</th>\n",
       "      <td>0b466a81-1df4-4799-9d0e-f472513c0c64</td>\n",
       "      <td>2021-03-02</td>\n",
       "      <td>Swansea</td>\n",
       "      <td>large businesses</td>\n",
       "      <td>business-to-consumer</td>\n",
       "      <td>laptops</td>\n",
       "      <td>209.68</td>\n",
       "    </tr>\n",
       "    <tr>\n",
       "      <th>1</th>\n",
       "      <td>0b466a81-1df4-4799-9d0e-f472513c0c64</td>\n",
       "      <td>2021-04-16</td>\n",
       "      <td>Glasgow</td>\n",
       "      <td>medium sized business</td>\n",
       "      <td>business-to-consumer</td>\n",
       "      <td>desks</td>\n",
       "      <td>414.80</td>\n",
       "    </tr>\n",
       "    <tr>\n",
       "      <th>2</th>\n",
       "      <td>0b466a81-1df4-4799-9d0e-f472513c0c64</td>\n",
       "      <td>2021-02-17</td>\n",
       "      <td>Bradford</td>\n",
       "      <td>large businesses</td>\n",
       "      <td>business-to-consumer</td>\n",
       "      <td>action figures</td>\n",
       "      <td>534.66</td>\n",
       "    </tr>\n",
       "    <tr>\n",
       "      <th>3</th>\n",
       "      <td>0b466a81-1df4-4799-9d0e-f472513c0c64</td>\n",
       "      <td>2021-05-09</td>\n",
       "      <td>Chelmsford</td>\n",
       "      <td>medium sized business</td>\n",
       "      <td>business-to-consumer</td>\n",
       "      <td>inflatable pool</td>\n",
       "      <td>1086.48</td>\n",
       "    </tr>\n",
       "    <tr>\n",
       "      <th>4</th>\n",
       "      <td>0b466a81-1df4-4799-9d0e-f472513c0c64</td>\n",
       "      <td>2021-04-27</td>\n",
       "      <td>Salisbury</td>\n",
       "      <td>medium sized business</td>\n",
       "      <td>business-to-consumer</td>\n",
       "      <td>long life food</td>\n",
       "      <td>410.34</td>\n",
       "    </tr>\n",
       "    <tr>\n",
       "      <th>...</th>\n",
       "      <td>...</td>\n",
       "      <td>...</td>\n",
       "      <td>...</td>\n",
       "      <td>...</td>\n",
       "      <td>...</td>\n",
       "      <td>...</td>\n",
       "      <td>...</td>\n",
       "    </tr>\n",
       "    <tr>\n",
       "      <th>2503</th>\n",
       "      <td>47924ca7-985c-403b-9d85-c93bf0e7ce32</td>\n",
       "      <td>2021-03-09</td>\n",
       "      <td>Inverness</td>\n",
       "      <td>medium sized business</td>\n",
       "      <td>business-to-business</td>\n",
       "      <td>labouring</td>\n",
       "      <td>2350.48</td>\n",
       "    </tr>\n",
       "    <tr>\n",
       "      <th>2504</th>\n",
       "      <td>47924ca7-985c-403b-9d85-c93bf0e7ce32</td>\n",
       "      <td>2021-02-24</td>\n",
       "      <td>Chelmsford</td>\n",
       "      <td>small business</td>\n",
       "      <td>business-to-business</td>\n",
       "      <td>legal</td>\n",
       "      <td>673.84</td>\n",
       "    </tr>\n",
       "    <tr>\n",
       "      <th>2505</th>\n",
       "      <td>47924ca7-985c-403b-9d85-c93bf0e7ce32</td>\n",
       "      <td>2021-04-07</td>\n",
       "      <td>Leicester</td>\n",
       "      <td>large businesses</td>\n",
       "      <td>business-to-business</td>\n",
       "      <td>labouring</td>\n",
       "      <td>1024.83</td>\n",
       "    </tr>\n",
       "    <tr>\n",
       "      <th>2506</th>\n",
       "      <td>47924ca7-985c-403b-9d85-c93bf0e7ce32</td>\n",
       "      <td>2021-04-16</td>\n",
       "      <td>Perth</td>\n",
       "      <td>small business</td>\n",
       "      <td>business-to-business</td>\n",
       "      <td>labouring</td>\n",
       "      <td>859.41</td>\n",
       "    </tr>\n",
       "    <tr>\n",
       "      <th>2507</th>\n",
       "      <td>47924ca7-985c-403b-9d85-c93bf0e7ce32</td>\n",
       "      <td>2021-02-03</td>\n",
       "      <td>Gloucester</td>\n",
       "      <td>medium sized business</td>\n",
       "      <td>business-to-business</td>\n",
       "      <td>office supplies</td>\n",
       "      <td>230.44</td>\n",
       "    </tr>\n",
       "  </tbody>\n",
       "</table>\n",
       "<p>2508 rows × 7 columns</p>\n",
       "</div>"
      ],
      "text/plain": [
       "                                   company       date    location                 market               channel product_category  total_sale_amount\n",
       "0     0b466a81-1df4-4799-9d0e-f472513c0c64 2021-03-02     Swansea       large businesses  business-to-consumer          laptops             209.68\n",
       "1     0b466a81-1df4-4799-9d0e-f472513c0c64 2021-04-16     Glasgow  medium sized business  business-to-consumer            desks             414.80\n",
       "2     0b466a81-1df4-4799-9d0e-f472513c0c64 2021-02-17    Bradford       large businesses  business-to-consumer   action figures             534.66\n",
       "3     0b466a81-1df4-4799-9d0e-f472513c0c64 2021-05-09  Chelmsford  medium sized business  business-to-consumer  inflatable pool            1086.48\n",
       "4     0b466a81-1df4-4799-9d0e-f472513c0c64 2021-04-27   Salisbury  medium sized business  business-to-consumer   long life food             410.34\n",
       "...                                    ...        ...         ...                    ...                   ...              ...                ...\n",
       "2503  47924ca7-985c-403b-9d85-c93bf0e7ce32 2021-03-09   Inverness  medium sized business  business-to-business        labouring            2350.48\n",
       "2504  47924ca7-985c-403b-9d85-c93bf0e7ce32 2021-02-24  Chelmsford         small business  business-to-business            legal             673.84\n",
       "2505  47924ca7-985c-403b-9d85-c93bf0e7ce32 2021-04-07   Leicester       large businesses  business-to-business        labouring            1024.83\n",
       "2506  47924ca7-985c-403b-9d85-c93bf0e7ce32 2021-04-16       Perth         small business  business-to-business        labouring             859.41\n",
       "2507  47924ca7-985c-403b-9d85-c93bf0e7ce32 2021-02-03  Gloucester  medium sized business  business-to-business  office supplies             230.44\n",
       "\n",
       "[2508 rows x 7 columns]"
      ]
     },
     "execution_count": 3,
     "metadata": {},
     "output_type": "execute_result"
    }
   ],
   "source": [
    "df1"
   ]
  },
  {
   "cell_type": "code",
   "execution_count": 4,
   "metadata": {},
   "outputs": [],
   "source": [
    "df1a = df1[df1[\"market\"] == \"small business\"]"
   ]
  },
  {
   "cell_type": "code",
   "execution_count": 13,
   "metadata": {},
   "outputs": [
    {
     "data": {
      "text/html": [
       "<div>\n",
       "<style scoped>\n",
       "    .dataframe tbody tr th:only-of-type {\n",
       "        vertical-align: middle;\n",
       "    }\n",
       "\n",
       "    .dataframe tbody tr th {\n",
       "        vertical-align: top;\n",
       "    }\n",
       "\n",
       "    .dataframe thead th {\n",
       "        text-align: right;\n",
       "    }\n",
       "</style>\n",
       "<table border=\"1\" class=\"dataframe\">\n",
       "  <thead>\n",
       "    <tr style=\"text-align: right;\">\n",
       "      <th></th>\n",
       "      <th>company</th>\n",
       "      <th>total_sale_amount</th>\n",
       "    </tr>\n",
       "  </thead>\n",
       "  <tbody>\n",
       "    <tr>\n",
       "      <th>0</th>\n",
       "      <td>3884b3b4-881f-43fa-a801-c4ec459fb8dd</td>\n",
       "      <td>135028.98</td>\n",
       "    </tr>\n",
       "    <tr>\n",
       "      <th>1</th>\n",
       "      <td>d12c20d2-2abd-46f2-babd-984eb96a6576</td>\n",
       "      <td>131483.36</td>\n",
       "    </tr>\n",
       "    <tr>\n",
       "      <th>2</th>\n",
       "      <td>d3ecaa13-39c2-4525-ad5f-79d2dc755ef7</td>\n",
       "      <td>129275.68</td>\n",
       "    </tr>\n",
       "    <tr>\n",
       "      <th>3</th>\n",
       "      <td>bd827125-511f-4ab9-a1b0-c1bb73218c41</td>\n",
       "      <td>125018.62</td>\n",
       "    </tr>\n",
       "    <tr>\n",
       "      <th>4</th>\n",
       "      <td>3af5cfce-3d49-4a3f-b94d-bcd9176a92f6</td>\n",
       "      <td>122988.92</td>\n",
       "    </tr>\n",
       "    <tr>\n",
       "      <th>5</th>\n",
       "      <td>ab26de37-713d-42d5-b20d-3a769d43da67</td>\n",
       "      <td>121005.21</td>\n",
       "    </tr>\n",
       "    <tr>\n",
       "      <th>6</th>\n",
       "      <td>145446d2-9e45-4473-bb68-835ab651dc56</td>\n",
       "      <td>120543.03</td>\n",
       "    </tr>\n",
       "    <tr>\n",
       "      <th>7</th>\n",
       "      <td>1f0662dd-92d2-452c-9ac2-b506161db987</td>\n",
       "      <td>116640.87</td>\n",
       "    </tr>\n",
       "    <tr>\n",
       "      <th>8</th>\n",
       "      <td>0b466a81-1df4-4799-9d0e-f472513c0c64</td>\n",
       "      <td>105795.90</td>\n",
       "    </tr>\n",
       "    <tr>\n",
       "      <th>9</th>\n",
       "      <td>47924ca7-985c-403b-9d85-c93bf0e7ce32</td>\n",
       "      <td>93375.28</td>\n",
       "    </tr>\n",
       "  </tbody>\n",
       "</table>\n",
       "</div>"
      ],
      "text/plain": [
       "                                company  total_sale_amount\n",
       "0  3884b3b4-881f-43fa-a801-c4ec459fb8dd          135028.98\n",
       "1  d12c20d2-2abd-46f2-babd-984eb96a6576          131483.36\n",
       "2  d3ecaa13-39c2-4525-ad5f-79d2dc755ef7          129275.68\n",
       "3  bd827125-511f-4ab9-a1b0-c1bb73218c41          125018.62\n",
       "4  3af5cfce-3d49-4a3f-b94d-bcd9176a92f6          122988.92\n",
       "5  ab26de37-713d-42d5-b20d-3a769d43da67          121005.21\n",
       "6  145446d2-9e45-4473-bb68-835ab651dc56          120543.03\n",
       "7  1f0662dd-92d2-452c-9ac2-b506161db987          116640.87\n",
       "8  0b466a81-1df4-4799-9d0e-f472513c0c64          105795.90\n",
       "9  47924ca7-985c-403b-9d85-c93bf0e7ce32           93375.28"
      ]
     },
     "execution_count": 13,
     "metadata": {},
     "output_type": "execute_result"
    }
   ],
   "source": [
    "sale_df = df1a.groupby(\"company\").sum().nlargest(columns=\"total_sale_amount\", n=10)\n",
    "sale_df\n",
    "sale_df.reset_index(inplace=True)\n",
    "sale_df"
   ]
  },
  {
   "cell_type": "code",
   "execution_count": 48,
   "metadata": {},
   "outputs": [
    {
     "data": {
      "text/html": [
       "<div>\n",
       "<style scoped>\n",
       "    .dataframe tbody tr th:only-of-type {\n",
       "        vertical-align: middle;\n",
       "    }\n",
       "\n",
       "    .dataframe tbody tr th {\n",
       "        vertical-align: top;\n",
       "    }\n",
       "\n",
       "    .dataframe thead th {\n",
       "        text-align: right;\n",
       "    }\n",
       "</style>\n",
       "<table border=\"1\" class=\"dataframe\">\n",
       "  <thead>\n",
       "    <tr style=\"text-align: right;\">\n",
       "      <th></th>\n",
       "      <th>total_sale_amount</th>\n",
       "    </tr>\n",
       "    <tr>\n",
       "      <th>channel</th>\n",
       "      <th></th>\n",
       "    </tr>\n",
       "  </thead>\n",
       "  <tbody>\n",
       "    <tr>\n",
       "      <th>business-to-business</th>\n",
       "      <td>594194.94</td>\n",
       "    </tr>\n",
       "    <tr>\n",
       "      <th>business-to-consumer</th>\n",
       "      <td>606960.91</td>\n",
       "    </tr>\n",
       "  </tbody>\n",
       "</table>\n",
       "</div>"
      ],
      "text/plain": [
       "                      total_sale_amount\n",
       "channel                                \n",
       "business-to-business          594194.94\n",
       "business-to-consumer          606960.91"
      ]
     },
     "execution_count": 48,
     "metadata": {},
     "output_type": "execute_result"
    }
   ],
   "source": [
    "df1a.groupby(\"channel\").sum()"
   ]
  },
  {
   "cell_type": "code",
   "execution_count": 49,
   "metadata": {},
   "outputs": [
    {
     "data": {
      "text/html": [
       "<div>\n",
       "<style scoped>\n",
       "    .dataframe tbody tr th:only-of-type {\n",
       "        vertical-align: middle;\n",
       "    }\n",
       "\n",
       "    .dataframe tbody tr th {\n",
       "        vertical-align: top;\n",
       "    }\n",
       "\n",
       "    .dataframe thead th {\n",
       "        text-align: right;\n",
       "    }\n",
       "</style>\n",
       "<table border=\"1\" class=\"dataframe\">\n",
       "  <thead>\n",
       "    <tr style=\"text-align: right;\">\n",
       "      <th></th>\n",
       "      <th>total_sale_amount</th>\n",
       "    </tr>\n",
       "    <tr>\n",
       "      <th>product_category</th>\n",
       "      <th></th>\n",
       "    </tr>\n",
       "  </thead>\n",
       "  <tbody>\n",
       "    <tr>\n",
       "      <th>metals</th>\n",
       "      <td>70265.49</td>\n",
       "    </tr>\n",
       "    <tr>\n",
       "      <th>plastic</th>\n",
       "      <td>60134.20</td>\n",
       "    </tr>\n",
       "    <tr>\n",
       "      <th>legal</th>\n",
       "      <td>59000.22</td>\n",
       "    </tr>\n",
       "    <tr>\n",
       "      <th>technology implementation</th>\n",
       "      <td>56002.62</td>\n",
       "    </tr>\n",
       "    <tr>\n",
       "      <th>labouring</th>\n",
       "      <td>50633.27</td>\n",
       "    </tr>\n",
       "  </tbody>\n",
       "</table>\n",
       "</div>"
      ],
      "text/plain": [
       "                           total_sale_amount\n",
       "product_category                            \n",
       "metals                              70265.49\n",
       "plastic                             60134.20\n",
       "legal                               59000.22\n",
       "technology implementation           56002.62\n",
       "labouring                           50633.27"
      ]
     },
     "execution_count": 49,
     "metadata": {},
     "output_type": "execute_result"
    }
   ],
   "source": [
    "df1a.groupby(\"product_category\").sum().nlargest(columns=\"total_sale_amount\", n=5)"
   ]
  },
  {
   "cell_type": "code",
   "execution_count": 50,
   "metadata": {},
   "outputs": [
    {
     "data": {
      "text/html": [
       "<div>\n",
       "<style scoped>\n",
       "    .dataframe tbody tr th:only-of-type {\n",
       "        vertical-align: middle;\n",
       "    }\n",
       "\n",
       "    .dataframe tbody tr th {\n",
       "        vertical-align: top;\n",
       "    }\n",
       "\n",
       "    .dataframe thead th {\n",
       "        text-align: right;\n",
       "    }\n",
       "</style>\n",
       "<table border=\"1\" class=\"dataframe\">\n",
       "  <thead>\n",
       "    <tr style=\"text-align: right;\">\n",
       "      <th></th>\n",
       "      <th>total_sale_amount</th>\n",
       "    </tr>\n",
       "    <tr>\n",
       "      <th>location</th>\n",
       "      <th></th>\n",
       "    </tr>\n",
       "  </thead>\n",
       "  <tbody>\n",
       "    <tr>\n",
       "      <th>Nottingham</th>\n",
       "      <td>33287.43</td>\n",
       "    </tr>\n",
       "    <tr>\n",
       "      <th>Londonderry</th>\n",
       "      <td>29719.82</td>\n",
       "    </tr>\n",
       "    <tr>\n",
       "      <th>Perth</th>\n",
       "      <td>29656.33</td>\n",
       "    </tr>\n",
       "    <tr>\n",
       "      <th>Canterbury</th>\n",
       "      <td>29426.88</td>\n",
       "    </tr>\n",
       "    <tr>\n",
       "      <th>St Albans</th>\n",
       "      <td>29324.23</td>\n",
       "    </tr>\n",
       "  </tbody>\n",
       "</table>\n",
       "</div>"
      ],
      "text/plain": [
       "             total_sale_amount\n",
       "location                      \n",
       "Nottingham            33287.43\n",
       "Londonderry           29719.82\n",
       "Perth                 29656.33\n",
       "Canterbury            29426.88\n",
       "St Albans             29324.23"
      ]
     },
     "execution_count": 50,
     "metadata": {},
     "output_type": "execute_result"
    }
   ],
   "source": [
    "df1a.groupby(\"location\").sum().nlargest(columns=\"total_sale_amount\", n=5)"
   ]
  },
  {
   "cell_type": "code",
   "execution_count": null,
   "metadata": {},
   "outputs": [],
   "source": []
  },
  {
   "cell_type": "code",
   "execution_count": 7,
   "metadata": {},
   "outputs": [],
   "source": [
    "df2 = pd.read_csv(\"competitor_monthly_costs.csv\")"
   ]
  },
  {
   "cell_type": "code",
   "execution_count": 8,
   "metadata": {},
   "outputs": [
    {
     "data": {
      "text/html": [
       "<div>\n",
       "<style scoped>\n",
       "    .dataframe tbody tr th:only-of-type {\n",
       "        vertical-align: middle;\n",
       "    }\n",
       "\n",
       "    .dataframe tbody tr th {\n",
       "        vertical-align: top;\n",
       "    }\n",
       "\n",
       "    .dataframe thead th {\n",
       "        text-align: right;\n",
       "    }\n",
       "</style>\n",
       "<table border=\"1\" class=\"dataframe\">\n",
       "  <thead>\n",
       "    <tr style=\"text-align: right;\">\n",
       "      <th></th>\n",
       "      <th>company</th>\n",
       "      <th>year</th>\n",
       "      <th>month</th>\n",
       "      <th>fixed_costs_for_b2b_sales</th>\n",
       "      <th>fixed_costs_for_b2c_sales</th>\n",
       "      <th>variable_costs_for_b2b_sales</th>\n",
       "      <th>variable_costs_for_b2c_sales</th>\n",
       "    </tr>\n",
       "  </thead>\n",
       "  <tbody>\n",
       "    <tr>\n",
       "      <th>0</th>\n",
       "      <td>0b466a81-1df4-4799-9d0e-f472513c0c64</td>\n",
       "      <td>2021</td>\n",
       "      <td>2</td>\n",
       "      <td>14.20</td>\n",
       "      <td>65.65</td>\n",
       "      <td>744.15</td>\n",
       "      <td>56.92</td>\n",
       "    </tr>\n",
       "    <tr>\n",
       "      <th>1</th>\n",
       "      <td>0b466a81-1df4-4799-9d0e-f472513c0c64</td>\n",
       "      <td>2021</td>\n",
       "      <td>3</td>\n",
       "      <td>99.90</td>\n",
       "      <td>33.00</td>\n",
       "      <td>159.49</td>\n",
       "      <td>68.37</td>\n",
       "    </tr>\n",
       "    <tr>\n",
       "      <th>2</th>\n",
       "      <td>0b466a81-1df4-4799-9d0e-f472513c0c64</td>\n",
       "      <td>2021</td>\n",
       "      <td>4</td>\n",
       "      <td>55.62</td>\n",
       "      <td>15.45</td>\n",
       "      <td>166.58</td>\n",
       "      <td>43.71</td>\n",
       "    </tr>\n",
       "    <tr>\n",
       "      <th>3</th>\n",
       "      <td>0b466a81-1df4-4799-9d0e-f472513c0c64</td>\n",
       "      <td>2021</td>\n",
       "      <td>5</td>\n",
       "      <td>40.61</td>\n",
       "      <td>33.82</td>\n",
       "      <td>374.63</td>\n",
       "      <td>19.03</td>\n",
       "    </tr>\n",
       "    <tr>\n",
       "      <th>4</th>\n",
       "      <td>0b466a81-1df4-4799-9d0e-f472513c0c64</td>\n",
       "      <td>2021</td>\n",
       "      <td>6</td>\n",
       "      <td>72.87</td>\n",
       "      <td>77.24</td>\n",
       "      <td>565.97</td>\n",
       "      <td>85.29</td>\n",
       "    </tr>\n",
       "  </tbody>\n",
       "</table>\n",
       "</div>"
      ],
      "text/plain": [
       "                                company  year  month  fixed_costs_for_b2b_sales  fixed_costs_for_b2c_sales  variable_costs_for_b2b_sales  variable_costs_for_b2c_sales\n",
       "0  0b466a81-1df4-4799-9d0e-f472513c0c64  2021      2                      14.20                      65.65                        744.15                         56.92\n",
       "1  0b466a81-1df4-4799-9d0e-f472513c0c64  2021      3                      99.90                      33.00                        159.49                         68.37\n",
       "2  0b466a81-1df4-4799-9d0e-f472513c0c64  2021      4                      55.62                      15.45                        166.58                         43.71\n",
       "3  0b466a81-1df4-4799-9d0e-f472513c0c64  2021      5                      40.61                      33.82                        374.63                         19.03\n",
       "4  0b466a81-1df4-4799-9d0e-f472513c0c64  2021      6                      72.87                      77.24                        565.97                         85.29"
      ]
     },
     "execution_count": 8,
     "metadata": {},
     "output_type": "execute_result"
    }
   ],
   "source": [
    "df2.head()"
   ]
  },
  {
   "cell_type": "code",
   "execution_count": 9,
   "metadata": {},
   "outputs": [
    {
     "name": "stdout",
     "output_type": "stream",
     "text": [
      "<class 'pandas.core.frame.DataFrame'>\n",
      "RangeIndex: 60 entries, 0 to 59\n",
      "Data columns (total 7 columns):\n",
      " #   Column                        Non-Null Count  Dtype  \n",
      "---  ------                        --------------  -----  \n",
      " 0   company                       60 non-null     object \n",
      " 1   year                          60 non-null     int64  \n",
      " 2   month                         60 non-null     int64  \n",
      " 3   fixed_costs_for_b2b_sales     60 non-null     float64\n",
      " 4   fixed_costs_for_b2c_sales     60 non-null     float64\n",
      " 5   variable_costs_for_b2b_sales  60 non-null     float64\n",
      " 6   variable_costs_for_b2c_sales  60 non-null     float64\n",
      "dtypes: float64(4), int64(2), object(1)\n",
      "memory usage: 3.4+ KB\n"
     ]
    }
   ],
   "source": [
    "df2.info()"
   ]
  },
  {
   "cell_type": "code",
   "execution_count": 10,
   "metadata": {},
   "outputs": [
    {
     "data": {
      "text/html": [
       "<div>\n",
       "<style scoped>\n",
       "    .dataframe tbody tr th:only-of-type {\n",
       "        vertical-align: middle;\n",
       "    }\n",
       "\n",
       "    .dataframe tbody tr th {\n",
       "        vertical-align: top;\n",
       "    }\n",
       "\n",
       "    .dataframe thead th {\n",
       "        text-align: right;\n",
       "    }\n",
       "</style>\n",
       "<table border=\"1\" class=\"dataframe\">\n",
       "  <thead>\n",
       "    <tr style=\"text-align: right;\">\n",
       "      <th></th>\n",
       "      <th>company</th>\n",
       "      <th>year</th>\n",
       "      <th>month</th>\n",
       "      <th>fixed_costs_for_b2b_sales</th>\n",
       "      <th>fixed_costs_for_b2c_sales</th>\n",
       "      <th>variable_costs_for_b2b_sales</th>\n",
       "      <th>variable_costs_for_b2c_sales</th>\n",
       "    </tr>\n",
       "  </thead>\n",
       "  <tbody>\n",
       "    <tr>\n",
       "      <th>count</th>\n",
       "      <td>60</td>\n",
       "      <td>60.00</td>\n",
       "      <td>60.00</td>\n",
       "      <td>60.00</td>\n",
       "      <td>60.00</td>\n",
       "      <td>60.00</td>\n",
       "      <td>60.00</td>\n",
       "    </tr>\n",
       "    <tr>\n",
       "      <th>unique</th>\n",
       "      <td>10</td>\n",
       "      <td>NaN</td>\n",
       "      <td>NaN</td>\n",
       "      <td>NaN</td>\n",
       "      <td>NaN</td>\n",
       "      <td>NaN</td>\n",
       "      <td>NaN</td>\n",
       "    </tr>\n",
       "    <tr>\n",
       "      <th>top</th>\n",
       "      <td>1f0662dd-92d2-452c-9ac2-b506161db987</td>\n",
       "      <td>NaN</td>\n",
       "      <td>NaN</td>\n",
       "      <td>NaN</td>\n",
       "      <td>NaN</td>\n",
       "      <td>NaN</td>\n",
       "      <td>NaN</td>\n",
       "    </tr>\n",
       "    <tr>\n",
       "      <th>freq</th>\n",
       "      <td>6</td>\n",
       "      <td>NaN</td>\n",
       "      <td>NaN</td>\n",
       "      <td>NaN</td>\n",
       "      <td>NaN</td>\n",
       "      <td>NaN</td>\n",
       "      <td>NaN</td>\n",
       "    </tr>\n",
       "    <tr>\n",
       "      <th>mean</th>\n",
       "      <td>NaN</td>\n",
       "      <td>2021.00</td>\n",
       "      <td>4.50</td>\n",
       "      <td>54.55</td>\n",
       "      <td>55.59</td>\n",
       "      <td>531.84</td>\n",
       "      <td>56.44</td>\n",
       "    </tr>\n",
       "    <tr>\n",
       "      <th>std</th>\n",
       "      <td>NaN</td>\n",
       "      <td>0.00</td>\n",
       "      <td>1.72</td>\n",
       "      <td>24.90</td>\n",
       "      <td>26.75</td>\n",
       "      <td>261.12</td>\n",
       "      <td>24.72</td>\n",
       "    </tr>\n",
       "    <tr>\n",
       "      <th>min</th>\n",
       "      <td>NaN</td>\n",
       "      <td>2021.00</td>\n",
       "      <td>2.00</td>\n",
       "      <td>10.27</td>\n",
       "      <td>10.91</td>\n",
       "      <td>101.50</td>\n",
       "      <td>12.67</td>\n",
       "    </tr>\n",
       "    <tr>\n",
       "      <th>25%</th>\n",
       "      <td>NaN</td>\n",
       "      <td>2021.00</td>\n",
       "      <td>3.00</td>\n",
       "      <td>34.27</td>\n",
       "      <td>32.96</td>\n",
       "      <td>304.01</td>\n",
       "      <td>36.04</td>\n",
       "    </tr>\n",
       "    <tr>\n",
       "      <th>50%</th>\n",
       "      <td>NaN</td>\n",
       "      <td>2021.00</td>\n",
       "      <td>4.50</td>\n",
       "      <td>54.94</td>\n",
       "      <td>56.55</td>\n",
       "      <td>551.67</td>\n",
       "      <td>56.70</td>\n",
       "    </tr>\n",
       "    <tr>\n",
       "      <th>75%</th>\n",
       "      <td>NaN</td>\n",
       "      <td>2021.00</td>\n",
       "      <td>6.00</td>\n",
       "      <td>76.00</td>\n",
       "      <td>79.62</td>\n",
       "      <td>748.13</td>\n",
       "      <td>75.23</td>\n",
       "    </tr>\n",
       "    <tr>\n",
       "      <th>max</th>\n",
       "      <td>NaN</td>\n",
       "      <td>2021.00</td>\n",
       "      <td>7.00</td>\n",
       "      <td>99.90</td>\n",
       "      <td>99.80</td>\n",
       "      <td>971.47</td>\n",
       "      <td>98.49</td>\n",
       "    </tr>\n",
       "  </tbody>\n",
       "</table>\n",
       "</div>"
      ],
      "text/plain": [
       "                                     company    year  month  fixed_costs_for_b2b_sales  fixed_costs_for_b2c_sales  variable_costs_for_b2b_sales  variable_costs_for_b2c_sales\n",
       "count                                     60   60.00  60.00                      60.00                      60.00                         60.00                         60.00\n",
       "unique                                    10     NaN    NaN                        NaN                        NaN                           NaN                           NaN\n",
       "top     1f0662dd-92d2-452c-9ac2-b506161db987     NaN    NaN                        NaN                        NaN                           NaN                           NaN\n",
       "freq                                       6     NaN    NaN                        NaN                        NaN                           NaN                           NaN\n",
       "mean                                     NaN 2021.00   4.50                      54.55                      55.59                        531.84                         56.44\n",
       "std                                      NaN    0.00   1.72                      24.90                      26.75                        261.12                         24.72\n",
       "min                                      NaN 2021.00   2.00                      10.27                      10.91                        101.50                         12.67\n",
       "25%                                      NaN 2021.00   3.00                      34.27                      32.96                        304.01                         36.04\n",
       "50%                                      NaN 2021.00   4.50                      54.94                      56.55                        551.67                         56.70\n",
       "75%                                      NaN 2021.00   6.00                      76.00                      79.62                        748.13                         75.23\n",
       "max                                      NaN 2021.00   7.00                      99.90                      99.80                        971.47                         98.49"
      ]
     },
     "execution_count": 10,
     "metadata": {},
     "output_type": "execute_result"
    }
   ],
   "source": [
    "df2.describe(include='all')"
   ]
  },
  {
   "cell_type": "code",
   "execution_count": 14,
   "metadata": {},
   "outputs": [],
   "source": [
    "df2.drop([\"year\",\"month\"], axis=1, inplace=True)"
   ]
  },
  {
   "cell_type": "markdown",
   "metadata": {},
   "source": [
    "### Groupby Function"
   ]
  },
  {
   "cell_type": "code",
   "execution_count": 15,
   "metadata": {},
   "outputs": [
    {
     "data": {
      "text/html": [
       "<div>\n",
       "<style scoped>\n",
       "    .dataframe tbody tr th:only-of-type {\n",
       "        vertical-align: middle;\n",
       "    }\n",
       "\n",
       "    .dataframe tbody tr th {\n",
       "        vertical-align: top;\n",
       "    }\n",
       "\n",
       "    .dataframe thead th {\n",
       "        text-align: right;\n",
       "    }\n",
       "</style>\n",
       "<table border=\"1\" class=\"dataframe\">\n",
       "  <thead>\n",
       "    <tr style=\"text-align: right;\">\n",
       "      <th></th>\n",
       "      <th>fixed_costs_for_b2b_sales</th>\n",
       "      <th>fixed_costs_for_b2c_sales</th>\n",
       "      <th>variable_costs_for_b2b_sales</th>\n",
       "      <th>variable_costs_for_b2c_sales</th>\n",
       "    </tr>\n",
       "    <tr>\n",
       "      <th>company</th>\n",
       "      <th></th>\n",
       "      <th></th>\n",
       "      <th></th>\n",
       "      <th></th>\n",
       "    </tr>\n",
       "  </thead>\n",
       "  <tbody>\n",
       "    <tr>\n",
       "      <th>0b466a81-1df4-4799-9d0e-f472513c0c64</th>\n",
       "      <td>316.95</td>\n",
       "      <td>301.96</td>\n",
       "      <td>2704.99</td>\n",
       "      <td>369.09</td>\n",
       "    </tr>\n",
       "    <tr>\n",
       "      <th>145446d2-9e45-4473-bb68-835ab651dc56</th>\n",
       "      <td>295.38</td>\n",
       "      <td>370.72</td>\n",
       "      <td>3575.73</td>\n",
       "      <td>243.97</td>\n",
       "    </tr>\n",
       "    <tr>\n",
       "      <th>1f0662dd-92d2-452c-9ac2-b506161db987</th>\n",
       "      <td>310.63</td>\n",
       "      <td>350.36</td>\n",
       "      <td>1855.91</td>\n",
       "      <td>427.18</td>\n",
       "    </tr>\n",
       "    <tr>\n",
       "      <th>3884b3b4-881f-43fa-a801-c4ec459fb8dd</th>\n",
       "      <td>334.35</td>\n",
       "      <td>409.57</td>\n",
       "      <td>3572.45</td>\n",
       "      <td>436.52</td>\n",
       "    </tr>\n",
       "    <tr>\n",
       "      <th>3af5cfce-3d49-4a3f-b94d-bcd9176a92f6</th>\n",
       "      <td>381.91</td>\n",
       "      <td>292.62</td>\n",
       "      <td>3191.61</td>\n",
       "      <td>340.94</td>\n",
       "    </tr>\n",
       "    <tr>\n",
       "      <th>47924ca7-985c-403b-9d85-c93bf0e7ce32</th>\n",
       "      <td>323.37</td>\n",
       "      <td>304.84</td>\n",
       "      <td>2434.66</td>\n",
       "      <td>325.57</td>\n",
       "    </tr>\n",
       "    <tr>\n",
       "      <th>ab26de37-713d-42d5-b20d-3a769d43da67</th>\n",
       "      <td>248.36</td>\n",
       "      <td>272.52</td>\n",
       "      <td>3417.87</td>\n",
       "      <td>320.11</td>\n",
       "    </tr>\n",
       "    <tr>\n",
       "      <th>bd827125-511f-4ab9-a1b0-c1bb73218c41</th>\n",
       "      <td>389.77</td>\n",
       "      <td>401.65</td>\n",
       "      <td>3722.78</td>\n",
       "      <td>299.68</td>\n",
       "    </tr>\n",
       "    <tr>\n",
       "      <th>d12c20d2-2abd-46f2-babd-984eb96a6576</th>\n",
       "      <td>275.80</td>\n",
       "      <td>255.03</td>\n",
       "      <td>3790.71</td>\n",
       "      <td>329.52</td>\n",
       "    </tr>\n",
       "    <tr>\n",
       "      <th>d3ecaa13-39c2-4525-ad5f-79d2dc755ef7</th>\n",
       "      <td>396.43</td>\n",
       "      <td>376.07</td>\n",
       "      <td>3643.67</td>\n",
       "      <td>293.56</td>\n",
       "    </tr>\n",
       "  </tbody>\n",
       "</table>\n",
       "</div>"
      ],
      "text/plain": [
       "                                      fixed_costs_for_b2b_sales  fixed_costs_for_b2c_sales  variable_costs_for_b2b_sales  variable_costs_for_b2c_sales\n",
       "company                                                                                                                                               \n",
       "0b466a81-1df4-4799-9d0e-f472513c0c64                     316.95                     301.96                       2704.99                        369.09\n",
       "145446d2-9e45-4473-bb68-835ab651dc56                     295.38                     370.72                       3575.73                        243.97\n",
       "1f0662dd-92d2-452c-9ac2-b506161db987                     310.63                     350.36                       1855.91                        427.18\n",
       "3884b3b4-881f-43fa-a801-c4ec459fb8dd                     334.35                     409.57                       3572.45                        436.52\n",
       "3af5cfce-3d49-4a3f-b94d-bcd9176a92f6                     381.91                     292.62                       3191.61                        340.94\n",
       "47924ca7-985c-403b-9d85-c93bf0e7ce32                     323.37                     304.84                       2434.66                        325.57\n",
       "ab26de37-713d-42d5-b20d-3a769d43da67                     248.36                     272.52                       3417.87                        320.11\n",
       "bd827125-511f-4ab9-a1b0-c1bb73218c41                     389.77                     401.65                       3722.78                        299.68\n",
       "d12c20d2-2abd-46f2-babd-984eb96a6576                     275.80                     255.03                       3790.71                        329.52\n",
       "d3ecaa13-39c2-4525-ad5f-79d2dc755ef7                     396.43                     376.07                       3643.67                        293.56"
      ]
     },
     "execution_count": 15,
     "metadata": {},
     "output_type": "execute_result"
    }
   ],
   "source": [
    "df2.groupby(\"company\").sum()"
   ]
  },
  {
   "cell_type": "code",
   "execution_count": 16,
   "metadata": {},
   "outputs": [
    {
     "data": {
      "text/html": [
       "<div>\n",
       "<style scoped>\n",
       "    .dataframe tbody tr th:only-of-type {\n",
       "        vertical-align: middle;\n",
       "    }\n",
       "\n",
       "    .dataframe tbody tr th {\n",
       "        vertical-align: top;\n",
       "    }\n",
       "\n",
       "    .dataframe thead th {\n",
       "        text-align: right;\n",
       "    }\n",
       "</style>\n",
       "<table border=\"1\" class=\"dataframe\">\n",
       "  <thead>\n",
       "    <tr style=\"text-align: right;\">\n",
       "      <th></th>\n",
       "      <th>fixed_costs_for_b2b_sales</th>\n",
       "      <th>fixed_costs_for_b2c_sales</th>\n",
       "      <th>variable_costs_for_b2b_sales</th>\n",
       "      <th>variable_costs_for_b2c_sales</th>\n",
       "    </tr>\n",
       "    <tr>\n",
       "      <th>company</th>\n",
       "      <th></th>\n",
       "      <th></th>\n",
       "      <th></th>\n",
       "      <th></th>\n",
       "    </tr>\n",
       "  </thead>\n",
       "  <tbody>\n",
       "    <tr>\n",
       "      <th>0b466a81-1df4-4799-9d0e-f472513c0c64</th>\n",
       "      <td>316.95</td>\n",
       "      <td>301.96</td>\n",
       "      <td>2704.99</td>\n",
       "      <td>369.09</td>\n",
       "    </tr>\n",
       "    <tr>\n",
       "      <th>145446d2-9e45-4473-bb68-835ab651dc56</th>\n",
       "      <td>295.38</td>\n",
       "      <td>370.72</td>\n",
       "      <td>3575.73</td>\n",
       "      <td>243.97</td>\n",
       "    </tr>\n",
       "    <tr>\n",
       "      <th>1f0662dd-92d2-452c-9ac2-b506161db987</th>\n",
       "      <td>310.63</td>\n",
       "      <td>350.36</td>\n",
       "      <td>1855.91</td>\n",
       "      <td>427.18</td>\n",
       "    </tr>\n",
       "    <tr>\n",
       "      <th>3884b3b4-881f-43fa-a801-c4ec459fb8dd</th>\n",
       "      <td>334.35</td>\n",
       "      <td>409.57</td>\n",
       "      <td>3572.45</td>\n",
       "      <td>436.52</td>\n",
       "    </tr>\n",
       "    <tr>\n",
       "      <th>3af5cfce-3d49-4a3f-b94d-bcd9176a92f6</th>\n",
       "      <td>381.91</td>\n",
       "      <td>292.62</td>\n",
       "      <td>3191.61</td>\n",
       "      <td>340.94</td>\n",
       "    </tr>\n",
       "    <tr>\n",
       "      <th>47924ca7-985c-403b-9d85-c93bf0e7ce32</th>\n",
       "      <td>323.37</td>\n",
       "      <td>304.84</td>\n",
       "      <td>2434.66</td>\n",
       "      <td>325.57</td>\n",
       "    </tr>\n",
       "    <tr>\n",
       "      <th>ab26de37-713d-42d5-b20d-3a769d43da67</th>\n",
       "      <td>248.36</td>\n",
       "      <td>272.52</td>\n",
       "      <td>3417.87</td>\n",
       "      <td>320.11</td>\n",
       "    </tr>\n",
       "    <tr>\n",
       "      <th>bd827125-511f-4ab9-a1b0-c1bb73218c41</th>\n",
       "      <td>389.77</td>\n",
       "      <td>401.65</td>\n",
       "      <td>3722.78</td>\n",
       "      <td>299.68</td>\n",
       "    </tr>\n",
       "    <tr>\n",
       "      <th>d12c20d2-2abd-46f2-babd-984eb96a6576</th>\n",
       "      <td>275.80</td>\n",
       "      <td>255.03</td>\n",
       "      <td>3790.71</td>\n",
       "      <td>329.52</td>\n",
       "    </tr>\n",
       "    <tr>\n",
       "      <th>d3ecaa13-39c2-4525-ad5f-79d2dc755ef7</th>\n",
       "      <td>396.43</td>\n",
       "      <td>376.07</td>\n",
       "      <td>3643.67</td>\n",
       "      <td>293.56</td>\n",
       "    </tr>\n",
       "  </tbody>\n",
       "</table>\n",
       "</div>"
      ],
      "text/plain": [
       "                                      fixed_costs_for_b2b_sales  fixed_costs_for_b2c_sales  variable_costs_for_b2b_sales  variable_costs_for_b2c_sales\n",
       "company                                                                                                                                               \n",
       "0b466a81-1df4-4799-9d0e-f472513c0c64                     316.95                     301.96                       2704.99                        369.09\n",
       "145446d2-9e45-4473-bb68-835ab651dc56                     295.38                     370.72                       3575.73                        243.97\n",
       "1f0662dd-92d2-452c-9ac2-b506161db987                     310.63                     350.36                       1855.91                        427.18\n",
       "3884b3b4-881f-43fa-a801-c4ec459fb8dd                     334.35                     409.57                       3572.45                        436.52\n",
       "3af5cfce-3d49-4a3f-b94d-bcd9176a92f6                     381.91                     292.62                       3191.61                        340.94\n",
       "47924ca7-985c-403b-9d85-c93bf0e7ce32                     323.37                     304.84                       2434.66                        325.57\n",
       "ab26de37-713d-42d5-b20d-3a769d43da67                     248.36                     272.52                       3417.87                        320.11\n",
       "bd827125-511f-4ab9-a1b0-c1bb73218c41                     389.77                     401.65                       3722.78                        299.68\n",
       "d12c20d2-2abd-46f2-babd-984eb96a6576                     275.80                     255.03                       3790.71                        329.52\n",
       "d3ecaa13-39c2-4525-ad5f-79d2dc755ef7                     396.43                     376.07                       3643.67                        293.56"
      ]
     },
     "execution_count": 16,
     "metadata": {},
     "output_type": "execute_result"
    }
   ],
   "source": [
    "df3 = df2.groupby(\"company\").sum()\n",
    "df3"
   ]
  },
  {
   "cell_type": "code",
   "execution_count": 17,
   "metadata": {},
   "outputs": [
    {
     "data": {
      "text/plain": [
       "Index(['fixed_costs_for_b2b_sales', 'fixed_costs_for_b2c_sales', 'variable_costs_for_b2b_sales', 'variable_costs_for_b2c_sales'], dtype='object')"
      ]
     },
     "execution_count": 17,
     "metadata": {},
     "output_type": "execute_result"
    }
   ],
   "source": [
    "df3.columns"
   ]
  },
  {
   "cell_type": "code",
   "execution_count": 18,
   "metadata": {},
   "outputs": [],
   "source": [
    "df3[\"b2b_total_costs\"] = df3[\"fixed_costs_for_b2b_sales\"] + df3[\"variable_costs_for_b2b_sales\"]"
   ]
  },
  {
   "cell_type": "code",
   "execution_count": 19,
   "metadata": {},
   "outputs": [],
   "source": [
    "df3[\"b2c_total_costs\"] = df3[\"fixed_costs_for_b2c_sales\"] + df3[\"variable_costs_for_b2c_sales\"]"
   ]
  },
  {
   "cell_type": "code",
   "execution_count": 21,
   "metadata": {},
   "outputs": [
    {
     "data": {
      "text/html": [
       "<div>\n",
       "<style scoped>\n",
       "    .dataframe tbody tr th:only-of-type {\n",
       "        vertical-align: middle;\n",
       "    }\n",
       "\n",
       "    .dataframe tbody tr th {\n",
       "        vertical-align: top;\n",
       "    }\n",
       "\n",
       "    .dataframe thead th {\n",
       "        text-align: right;\n",
       "    }\n",
       "</style>\n",
       "<table border=\"1\" class=\"dataframe\">\n",
       "  <thead>\n",
       "    <tr style=\"text-align: right;\">\n",
       "      <th></th>\n",
       "      <th>company</th>\n",
       "      <th>fixed_costs_for_b2b_sales</th>\n",
       "      <th>fixed_costs_for_b2c_sales</th>\n",
       "      <th>variable_costs_for_b2b_sales</th>\n",
       "      <th>variable_costs_for_b2c_sales</th>\n",
       "      <th>b2b_total_costs</th>\n",
       "      <th>b2c_total_costs</th>\n",
       "    </tr>\n",
       "  </thead>\n",
       "  <tbody>\n",
       "    <tr>\n",
       "      <th>0</th>\n",
       "      <td>0b466a81-1df4-4799-9d0e-f472513c0c64</td>\n",
       "      <td>316.95</td>\n",
       "      <td>301.96</td>\n",
       "      <td>2704.99</td>\n",
       "      <td>369.09</td>\n",
       "      <td>3021.94</td>\n",
       "      <td>671.05</td>\n",
       "    </tr>\n",
       "    <tr>\n",
       "      <th>1</th>\n",
       "      <td>145446d2-9e45-4473-bb68-835ab651dc56</td>\n",
       "      <td>295.38</td>\n",
       "      <td>370.72</td>\n",
       "      <td>3575.73</td>\n",
       "      <td>243.97</td>\n",
       "      <td>3871.11</td>\n",
       "      <td>614.69</td>\n",
       "    </tr>\n",
       "    <tr>\n",
       "      <th>2</th>\n",
       "      <td>1f0662dd-92d2-452c-9ac2-b506161db987</td>\n",
       "      <td>310.63</td>\n",
       "      <td>350.36</td>\n",
       "      <td>1855.91</td>\n",
       "      <td>427.18</td>\n",
       "      <td>2166.54</td>\n",
       "      <td>777.54</td>\n",
       "    </tr>\n",
       "    <tr>\n",
       "      <th>3</th>\n",
       "      <td>3884b3b4-881f-43fa-a801-c4ec459fb8dd</td>\n",
       "      <td>334.35</td>\n",
       "      <td>409.57</td>\n",
       "      <td>3572.45</td>\n",
       "      <td>436.52</td>\n",
       "      <td>3906.80</td>\n",
       "      <td>846.09</td>\n",
       "    </tr>\n",
       "    <tr>\n",
       "      <th>4</th>\n",
       "      <td>3af5cfce-3d49-4a3f-b94d-bcd9176a92f6</td>\n",
       "      <td>381.91</td>\n",
       "      <td>292.62</td>\n",
       "      <td>3191.61</td>\n",
       "      <td>340.94</td>\n",
       "      <td>3573.52</td>\n",
       "      <td>633.56</td>\n",
       "    </tr>\n",
       "    <tr>\n",
       "      <th>5</th>\n",
       "      <td>47924ca7-985c-403b-9d85-c93bf0e7ce32</td>\n",
       "      <td>323.37</td>\n",
       "      <td>304.84</td>\n",
       "      <td>2434.66</td>\n",
       "      <td>325.57</td>\n",
       "      <td>2758.03</td>\n",
       "      <td>630.41</td>\n",
       "    </tr>\n",
       "    <tr>\n",
       "      <th>6</th>\n",
       "      <td>ab26de37-713d-42d5-b20d-3a769d43da67</td>\n",
       "      <td>248.36</td>\n",
       "      <td>272.52</td>\n",
       "      <td>3417.87</td>\n",
       "      <td>320.11</td>\n",
       "      <td>3666.23</td>\n",
       "      <td>592.63</td>\n",
       "    </tr>\n",
       "    <tr>\n",
       "      <th>7</th>\n",
       "      <td>bd827125-511f-4ab9-a1b0-c1bb73218c41</td>\n",
       "      <td>389.77</td>\n",
       "      <td>401.65</td>\n",
       "      <td>3722.78</td>\n",
       "      <td>299.68</td>\n",
       "      <td>4112.55</td>\n",
       "      <td>701.33</td>\n",
       "    </tr>\n",
       "    <tr>\n",
       "      <th>8</th>\n",
       "      <td>d12c20d2-2abd-46f2-babd-984eb96a6576</td>\n",
       "      <td>275.80</td>\n",
       "      <td>255.03</td>\n",
       "      <td>3790.71</td>\n",
       "      <td>329.52</td>\n",
       "      <td>4066.51</td>\n",
       "      <td>584.55</td>\n",
       "    </tr>\n",
       "    <tr>\n",
       "      <th>9</th>\n",
       "      <td>d3ecaa13-39c2-4525-ad5f-79d2dc755ef7</td>\n",
       "      <td>396.43</td>\n",
       "      <td>376.07</td>\n",
       "      <td>3643.67</td>\n",
       "      <td>293.56</td>\n",
       "      <td>4040.10</td>\n",
       "      <td>669.63</td>\n",
       "    </tr>\n",
       "  </tbody>\n",
       "</table>\n",
       "</div>"
      ],
      "text/plain": [
       "                                company  fixed_costs_for_b2b_sales  fixed_costs_for_b2c_sales  variable_costs_for_b2b_sales  variable_costs_for_b2c_sales  b2b_total_costs  b2c_total_costs\n",
       "0  0b466a81-1df4-4799-9d0e-f472513c0c64                     316.95                     301.96                       2704.99                        369.09          3021.94           671.05\n",
       "1  145446d2-9e45-4473-bb68-835ab651dc56                     295.38                     370.72                       3575.73                        243.97          3871.11           614.69\n",
       "2  1f0662dd-92d2-452c-9ac2-b506161db987                     310.63                     350.36                       1855.91                        427.18          2166.54           777.54\n",
       "3  3884b3b4-881f-43fa-a801-c4ec459fb8dd                     334.35                     409.57                       3572.45                        436.52          3906.80           846.09\n",
       "4  3af5cfce-3d49-4a3f-b94d-bcd9176a92f6                     381.91                     292.62                       3191.61                        340.94          3573.52           633.56\n",
       "5  47924ca7-985c-403b-9d85-c93bf0e7ce32                     323.37                     304.84                       2434.66                        325.57          2758.03           630.41\n",
       "6  ab26de37-713d-42d5-b20d-3a769d43da67                     248.36                     272.52                       3417.87                        320.11          3666.23           592.63\n",
       "7  bd827125-511f-4ab9-a1b0-c1bb73218c41                     389.77                     401.65                       3722.78                        299.68          4112.55           701.33\n",
       "8  d12c20d2-2abd-46f2-babd-984eb96a6576                     275.80                     255.03                       3790.71                        329.52          4066.51           584.55\n",
       "9  d3ecaa13-39c2-4525-ad5f-79d2dc755ef7                     396.43                     376.07                       3643.67                        293.56          4040.10           669.63"
      ]
     },
     "execution_count": 21,
     "metadata": {},
     "output_type": "execute_result"
    }
   ],
   "source": [
    "df3.reset_index(inplace=True)\n",
    "df3"
   ]
  },
  {
   "cell_type": "markdown",
   "metadata": {},
   "source": [
    "### Joins in Pandas"
   ]
  },
  {
   "cell_type": "code",
   "execution_count": 24,
   "metadata": {},
   "outputs": [
    {
     "data": {
      "text/html": [
       "<div>\n",
       "<style scoped>\n",
       "    .dataframe tbody tr th:only-of-type {\n",
       "        vertical-align: middle;\n",
       "    }\n",
       "\n",
       "    .dataframe tbody tr th {\n",
       "        vertical-align: top;\n",
       "    }\n",
       "\n",
       "    .dataframe thead th {\n",
       "        text-align: right;\n",
       "    }\n",
       "</style>\n",
       "<table border=\"1\" class=\"dataframe\">\n",
       "  <thead>\n",
       "    <tr style=\"text-align: right;\">\n",
       "      <th></th>\n",
       "      <th>company</th>\n",
       "      <th>total_sale_amount</th>\n",
       "      <th>fixed_costs_for_b2b_sales</th>\n",
       "      <th>fixed_costs_for_b2c_sales</th>\n",
       "      <th>variable_costs_for_b2b_sales</th>\n",
       "      <th>variable_costs_for_b2c_sales</th>\n",
       "      <th>b2b_total_costs</th>\n",
       "      <th>b2c_total_costs</th>\n",
       "    </tr>\n",
       "  </thead>\n",
       "  <tbody>\n",
       "    <tr>\n",
       "      <th>0</th>\n",
       "      <td>3884b3b4-881f-43fa-a801-c4ec459fb8dd</td>\n",
       "      <td>135028.98</td>\n",
       "      <td>334.35</td>\n",
       "      <td>409.57</td>\n",
       "      <td>3572.45</td>\n",
       "      <td>436.52</td>\n",
       "      <td>3906.80</td>\n",
       "      <td>846.09</td>\n",
       "    </tr>\n",
       "    <tr>\n",
       "      <th>1</th>\n",
       "      <td>d12c20d2-2abd-46f2-babd-984eb96a6576</td>\n",
       "      <td>131483.36</td>\n",
       "      <td>275.80</td>\n",
       "      <td>255.03</td>\n",
       "      <td>3790.71</td>\n",
       "      <td>329.52</td>\n",
       "      <td>4066.51</td>\n",
       "      <td>584.55</td>\n",
       "    </tr>\n",
       "    <tr>\n",
       "      <th>2</th>\n",
       "      <td>d3ecaa13-39c2-4525-ad5f-79d2dc755ef7</td>\n",
       "      <td>129275.68</td>\n",
       "      <td>396.43</td>\n",
       "      <td>376.07</td>\n",
       "      <td>3643.67</td>\n",
       "      <td>293.56</td>\n",
       "      <td>4040.10</td>\n",
       "      <td>669.63</td>\n",
       "    </tr>\n",
       "    <tr>\n",
       "      <th>3</th>\n",
       "      <td>bd827125-511f-4ab9-a1b0-c1bb73218c41</td>\n",
       "      <td>125018.62</td>\n",
       "      <td>389.77</td>\n",
       "      <td>401.65</td>\n",
       "      <td>3722.78</td>\n",
       "      <td>299.68</td>\n",
       "      <td>4112.55</td>\n",
       "      <td>701.33</td>\n",
       "    </tr>\n",
       "    <tr>\n",
       "      <th>4</th>\n",
       "      <td>3af5cfce-3d49-4a3f-b94d-bcd9176a92f6</td>\n",
       "      <td>122988.92</td>\n",
       "      <td>381.91</td>\n",
       "      <td>292.62</td>\n",
       "      <td>3191.61</td>\n",
       "      <td>340.94</td>\n",
       "      <td>3573.52</td>\n",
       "      <td>633.56</td>\n",
       "    </tr>\n",
       "    <tr>\n",
       "      <th>5</th>\n",
       "      <td>ab26de37-713d-42d5-b20d-3a769d43da67</td>\n",
       "      <td>121005.21</td>\n",
       "      <td>248.36</td>\n",
       "      <td>272.52</td>\n",
       "      <td>3417.87</td>\n",
       "      <td>320.11</td>\n",
       "      <td>3666.23</td>\n",
       "      <td>592.63</td>\n",
       "    </tr>\n",
       "    <tr>\n",
       "      <th>6</th>\n",
       "      <td>145446d2-9e45-4473-bb68-835ab651dc56</td>\n",
       "      <td>120543.03</td>\n",
       "      <td>295.38</td>\n",
       "      <td>370.72</td>\n",
       "      <td>3575.73</td>\n",
       "      <td>243.97</td>\n",
       "      <td>3871.11</td>\n",
       "      <td>614.69</td>\n",
       "    </tr>\n",
       "    <tr>\n",
       "      <th>7</th>\n",
       "      <td>1f0662dd-92d2-452c-9ac2-b506161db987</td>\n",
       "      <td>116640.87</td>\n",
       "      <td>310.63</td>\n",
       "      <td>350.36</td>\n",
       "      <td>1855.91</td>\n",
       "      <td>427.18</td>\n",
       "      <td>2166.54</td>\n",
       "      <td>777.54</td>\n",
       "    </tr>\n",
       "    <tr>\n",
       "      <th>8</th>\n",
       "      <td>0b466a81-1df4-4799-9d0e-f472513c0c64</td>\n",
       "      <td>105795.90</td>\n",
       "      <td>316.95</td>\n",
       "      <td>301.96</td>\n",
       "      <td>2704.99</td>\n",
       "      <td>369.09</td>\n",
       "      <td>3021.94</td>\n",
       "      <td>671.05</td>\n",
       "    </tr>\n",
       "    <tr>\n",
       "      <th>9</th>\n",
       "      <td>47924ca7-985c-403b-9d85-c93bf0e7ce32</td>\n",
       "      <td>93375.28</td>\n",
       "      <td>323.37</td>\n",
       "      <td>304.84</td>\n",
       "      <td>2434.66</td>\n",
       "      <td>325.57</td>\n",
       "      <td>2758.03</td>\n",
       "      <td>630.41</td>\n",
       "    </tr>\n",
       "  </tbody>\n",
       "</table>\n",
       "</div>"
      ],
      "text/plain": [
       "                                company  total_sale_amount  fixed_costs_for_b2b_sales  fixed_costs_for_b2c_sales  variable_costs_for_b2b_sales  variable_costs_for_b2c_sales  b2b_total_costs  b2c_total_costs\n",
       "0  3884b3b4-881f-43fa-a801-c4ec459fb8dd          135028.98                     334.35                     409.57                       3572.45                        436.52          3906.80           846.09\n",
       "1  d12c20d2-2abd-46f2-babd-984eb96a6576          131483.36                     275.80                     255.03                       3790.71                        329.52          4066.51           584.55\n",
       "2  d3ecaa13-39c2-4525-ad5f-79d2dc755ef7          129275.68                     396.43                     376.07                       3643.67                        293.56          4040.10           669.63\n",
       "3  bd827125-511f-4ab9-a1b0-c1bb73218c41          125018.62                     389.77                     401.65                       3722.78                        299.68          4112.55           701.33\n",
       "4  3af5cfce-3d49-4a3f-b94d-bcd9176a92f6          122988.92                     381.91                     292.62                       3191.61                        340.94          3573.52           633.56\n",
       "5  ab26de37-713d-42d5-b20d-3a769d43da67          121005.21                     248.36                     272.52                       3417.87                        320.11          3666.23           592.63\n",
       "6  145446d2-9e45-4473-bb68-835ab651dc56          120543.03                     295.38                     370.72                       3575.73                        243.97          3871.11           614.69\n",
       "7  1f0662dd-92d2-452c-9ac2-b506161db987          116640.87                     310.63                     350.36                       1855.91                        427.18          2166.54           777.54\n",
       "8  0b466a81-1df4-4799-9d0e-f472513c0c64          105795.90                     316.95                     301.96                       2704.99                        369.09          3021.94           671.05\n",
       "9  47924ca7-985c-403b-9d85-c93bf0e7ce32           93375.28                     323.37                     304.84                       2434.66                        325.57          2758.03           630.41"
      ]
     },
     "execution_count": 24,
     "metadata": {},
     "output_type": "execute_result"
    }
   ],
   "source": [
    "df4 = pd.merge(sale_df,df3,on='company')\n",
    "df4"
   ]
  },
  {
   "cell_type": "code",
   "execution_count": 25,
   "metadata": {},
   "outputs": [],
   "source": [
    "df4[\"profit\"] = df4[\"total_sale_amount\"] - df4[\"b2b_total_costs\"] - df4[\"b2c_total_costs\"]"
   ]
  },
  {
   "cell_type": "code",
   "execution_count": 26,
   "metadata": {},
   "outputs": [
    {
     "data": {
      "text/html": [
       "<div>\n",
       "<style scoped>\n",
       "    .dataframe tbody tr th:only-of-type {\n",
       "        vertical-align: middle;\n",
       "    }\n",
       "\n",
       "    .dataframe tbody tr th {\n",
       "        vertical-align: top;\n",
       "    }\n",
       "\n",
       "    .dataframe thead th {\n",
       "        text-align: right;\n",
       "    }\n",
       "</style>\n",
       "<table border=\"1\" class=\"dataframe\">\n",
       "  <thead>\n",
       "    <tr style=\"text-align: right;\">\n",
       "      <th></th>\n",
       "      <th>company</th>\n",
       "      <th>total_sale_amount</th>\n",
       "      <th>fixed_costs_for_b2b_sales</th>\n",
       "      <th>fixed_costs_for_b2c_sales</th>\n",
       "      <th>variable_costs_for_b2b_sales</th>\n",
       "      <th>variable_costs_for_b2c_sales</th>\n",
       "      <th>b2b_total_costs</th>\n",
       "      <th>b2c_total_costs</th>\n",
       "      <th>profit</th>\n",
       "    </tr>\n",
       "  </thead>\n",
       "  <tbody>\n",
       "    <tr>\n",
       "      <th>0</th>\n",
       "      <td>3884b3b4-881f-43fa-a801-c4ec459fb8dd</td>\n",
       "      <td>135028.98</td>\n",
       "      <td>334.35</td>\n",
       "      <td>409.57</td>\n",
       "      <td>3572.45</td>\n",
       "      <td>436.52</td>\n",
       "      <td>3906.80</td>\n",
       "      <td>846.09</td>\n",
       "      <td>130276.09</td>\n",
       "    </tr>\n",
       "    <tr>\n",
       "      <th>1</th>\n",
       "      <td>d12c20d2-2abd-46f2-babd-984eb96a6576</td>\n",
       "      <td>131483.36</td>\n",
       "      <td>275.80</td>\n",
       "      <td>255.03</td>\n",
       "      <td>3790.71</td>\n",
       "      <td>329.52</td>\n",
       "      <td>4066.51</td>\n",
       "      <td>584.55</td>\n",
       "      <td>126832.30</td>\n",
       "    </tr>\n",
       "    <tr>\n",
       "      <th>2</th>\n",
       "      <td>d3ecaa13-39c2-4525-ad5f-79d2dc755ef7</td>\n",
       "      <td>129275.68</td>\n",
       "      <td>396.43</td>\n",
       "      <td>376.07</td>\n",
       "      <td>3643.67</td>\n",
       "      <td>293.56</td>\n",
       "      <td>4040.10</td>\n",
       "      <td>669.63</td>\n",
       "      <td>124565.95</td>\n",
       "    </tr>\n",
       "    <tr>\n",
       "      <th>3</th>\n",
       "      <td>bd827125-511f-4ab9-a1b0-c1bb73218c41</td>\n",
       "      <td>125018.62</td>\n",
       "      <td>389.77</td>\n",
       "      <td>401.65</td>\n",
       "      <td>3722.78</td>\n",
       "      <td>299.68</td>\n",
       "      <td>4112.55</td>\n",
       "      <td>701.33</td>\n",
       "      <td>120204.74</td>\n",
       "    </tr>\n",
       "    <tr>\n",
       "      <th>4</th>\n",
       "      <td>3af5cfce-3d49-4a3f-b94d-bcd9176a92f6</td>\n",
       "      <td>122988.92</td>\n",
       "      <td>381.91</td>\n",
       "      <td>292.62</td>\n",
       "      <td>3191.61</td>\n",
       "      <td>340.94</td>\n",
       "      <td>3573.52</td>\n",
       "      <td>633.56</td>\n",
       "      <td>118781.84</td>\n",
       "    </tr>\n",
       "    <tr>\n",
       "      <th>5</th>\n",
       "      <td>ab26de37-713d-42d5-b20d-3a769d43da67</td>\n",
       "      <td>121005.21</td>\n",
       "      <td>248.36</td>\n",
       "      <td>272.52</td>\n",
       "      <td>3417.87</td>\n",
       "      <td>320.11</td>\n",
       "      <td>3666.23</td>\n",
       "      <td>592.63</td>\n",
       "      <td>116746.35</td>\n",
       "    </tr>\n",
       "    <tr>\n",
       "      <th>6</th>\n",
       "      <td>145446d2-9e45-4473-bb68-835ab651dc56</td>\n",
       "      <td>120543.03</td>\n",
       "      <td>295.38</td>\n",
       "      <td>370.72</td>\n",
       "      <td>3575.73</td>\n",
       "      <td>243.97</td>\n",
       "      <td>3871.11</td>\n",
       "      <td>614.69</td>\n",
       "      <td>116057.23</td>\n",
       "    </tr>\n",
       "    <tr>\n",
       "      <th>7</th>\n",
       "      <td>1f0662dd-92d2-452c-9ac2-b506161db987</td>\n",
       "      <td>116640.87</td>\n",
       "      <td>310.63</td>\n",
       "      <td>350.36</td>\n",
       "      <td>1855.91</td>\n",
       "      <td>427.18</td>\n",
       "      <td>2166.54</td>\n",
       "      <td>777.54</td>\n",
       "      <td>113696.79</td>\n",
       "    </tr>\n",
       "    <tr>\n",
       "      <th>8</th>\n",
       "      <td>0b466a81-1df4-4799-9d0e-f472513c0c64</td>\n",
       "      <td>105795.90</td>\n",
       "      <td>316.95</td>\n",
       "      <td>301.96</td>\n",
       "      <td>2704.99</td>\n",
       "      <td>369.09</td>\n",
       "      <td>3021.94</td>\n",
       "      <td>671.05</td>\n",
       "      <td>102102.91</td>\n",
       "    </tr>\n",
       "    <tr>\n",
       "      <th>9</th>\n",
       "      <td>47924ca7-985c-403b-9d85-c93bf0e7ce32</td>\n",
       "      <td>93375.28</td>\n",
       "      <td>323.37</td>\n",
       "      <td>304.84</td>\n",
       "      <td>2434.66</td>\n",
       "      <td>325.57</td>\n",
       "      <td>2758.03</td>\n",
       "      <td>630.41</td>\n",
       "      <td>89986.84</td>\n",
       "    </tr>\n",
       "  </tbody>\n",
       "</table>\n",
       "</div>"
      ],
      "text/plain": [
       "                                company  total_sale_amount  fixed_costs_for_b2b_sales  fixed_costs_for_b2c_sales  variable_costs_for_b2b_sales  variable_costs_for_b2c_sales  b2b_total_costs  b2c_total_costs    profit\n",
       "0  3884b3b4-881f-43fa-a801-c4ec459fb8dd          135028.98                     334.35                     409.57                       3572.45                        436.52          3906.80           846.09 130276.09\n",
       "1  d12c20d2-2abd-46f2-babd-984eb96a6576          131483.36                     275.80                     255.03                       3790.71                        329.52          4066.51           584.55 126832.30\n",
       "2  d3ecaa13-39c2-4525-ad5f-79d2dc755ef7          129275.68                     396.43                     376.07                       3643.67                        293.56          4040.10           669.63 124565.95\n",
       "3  bd827125-511f-4ab9-a1b0-c1bb73218c41          125018.62                     389.77                     401.65                       3722.78                        299.68          4112.55           701.33 120204.74\n",
       "4  3af5cfce-3d49-4a3f-b94d-bcd9176a92f6          122988.92                     381.91                     292.62                       3191.61                        340.94          3573.52           633.56 118781.84\n",
       "5  ab26de37-713d-42d5-b20d-3a769d43da67          121005.21                     248.36                     272.52                       3417.87                        320.11          3666.23           592.63 116746.35\n",
       "6  145446d2-9e45-4473-bb68-835ab651dc56          120543.03                     295.38                     370.72                       3575.73                        243.97          3871.11           614.69 116057.23\n",
       "7  1f0662dd-92d2-452c-9ac2-b506161db987          116640.87                     310.63                     350.36                       1855.91                        427.18          2166.54           777.54 113696.79\n",
       "8  0b466a81-1df4-4799-9d0e-f472513c0c64          105795.90                     316.95                     301.96                       2704.99                        369.09          3021.94           671.05 102102.91\n",
       "9  47924ca7-985c-403b-9d85-c93bf0e7ce32           93375.28                     323.37                     304.84                       2434.66                        325.57          2758.03           630.41  89986.84"
      ]
     },
     "execution_count": 26,
     "metadata": {},
     "output_type": "execute_result"
    }
   ],
   "source": [
    "df4"
   ]
  },
  {
   "cell_type": "code",
   "execution_count": null,
   "metadata": {},
   "outputs": [],
   "source": []
  },
  {
   "cell_type": "code",
   "execution_count": 47,
   "metadata": {},
   "outputs": [
    {
     "data": {
      "image/png": "[encoded data removed]",
      "text/plain": [
       "<Figure size 1152x720 with 1 Axes>"
      ]
     },
     "metadata": {},
     "output_type": "display_data"
    }
   ],
   "source": [
    "plt.figure(figsize=(16,10))\n",
    "\n",
    "sns.barplot(x=\"company\", y=\"profit\", data=df4)\n",
    "plt.title('Profits chart')\n",
    "plt.tick_params('x', labelrotation=45)\n",
    "plt.xlabel(\"Company ID\")\n",
    "plt.ylabel(\"Profits\")\n",
    "\n",
    "\n",
    "plt.show()"
   ]
  },
  {
   "cell_type": "code",
   "execution_count": null,
   "metadata": {},
   "outputs": [],
   "source": [
    "pd.merge(df1,df2,left_on='Product_name',right_on='Purchased_Product')"
   ]
  },
  {
   "cell_type": "code",
   "execution_count": null,
   "metadata": {},
   "outputs": [],
   "source": [
    "pd.merge(df1,df2,how='inner',left_on=['Product_ID','Seller_City'],right_on=['Product_ID','City'])"
   ]
  },
  {
   "cell_type": "code",
   "execution_count": null,
   "metadata": {},
   "outputs": [],
   "source": [
    "pd.merge(df1,df2,on='Product_ID',how='outer',indicator=True)"
   ]
  },
  {
   "cell_type": "code",
   "execution_count": null,
   "metadata": {},
   "outputs": [],
   "source": [
    "pd.merge(df1,df2, on='Product_ID',how='left')"
   ]
  },
  {
   "cell_type": "code",
   "execution_count": null,
   "metadata": {},
   "outputs": [],
   "source": [
    "pd.merge(df1,df2, on='Product_ID',how='right')"
   ]
  },
  {
   "cell_type": "code",
   "execution_count": null,
   "metadata": {},
   "outputs": [],
   "source": [
    "#Handling Redundancy/Duplicates in Joins\n",
    "pd.merge(df1.drop_duplicates(),df2,how='inner',on='Product_ID')"
   ]
  },
  {
   "cell_type": "markdown",
   "metadata": {},
   "source": [
    "### Pandas-Profiling Reports"
   ]
  },
  {
   "cell_type": "code",
   "execution_count": null,
   "metadata": {},
   "outputs": [],
   "source": [
    "profile = ProfileReport(df=df, title='Name of Report', minimal=True)"
   ]
  },
  {
   "cell_type": "code",
   "execution_count": null,
   "metadata": {},
   "outputs": [],
   "source": [
    "profile.to_notebook_iframe()"
   ]
  },
  {
   "cell_type": "code",
   "execution_count": null,
   "metadata": {},
   "outputs": [],
   "source": [
    "profile.to_file(\"your_report.html\")"
   ]
  },
  {
   "cell_type": "markdown",
   "metadata": {},
   "source": [
    "## Data Visualization"
   ]
  },
  {
   "cell_type": "markdown",
   "metadata": {},
   "source": [
    "### Univariate Data Exploration"
   ]
  },
  {
   "cell_type": "code",
   "execution_count": null,
   "metadata": {},
   "outputs": [],
   "source": [
    "df.hist(bins=50, figsize=(20,10))\n",
    "plt.suptitle('Histogram Feature Distribution', x=0.5, y=1.02, ha='center', fontsize=20)\n",
    "plt.tight_layout()\n",
    "plt.show()"
   ]
  },
  {
   "cell_type": "code",
   "execution_count": null,
   "metadata": {},
   "outputs": [],
   "source": [
    "df.boxplot(figsize=(20,10))\n",
    "plt.suptitle('BoxPlots Feature Distribution', x=0.5, y=1.02, ha='center', fontsize=20)\n",
    "plt.tight_layout()\n",
    "plt.show()"
   ]
  },
  {
   "cell_type": "code",
   "execution_count": null,
   "metadata": {},
   "outputs": [],
   "source": [
    "# Plot 4 rows and 1 column (can be expanded)\n",
    "\n",
    "fig, ax = plt.subplots(4,1, sharex=False, figsize=(16,16))\n",
    "fig.suptitle('Main Title')\n",
    "\n",
    "\n",
    "sns.barplot(x=\"\", y=\"\", data=df, ax=ax[0])\n",
    "ax[0].set_title('Title of the first chart')\n",
    "#ax[0].tick_params('x', labelrotation=45)\n",
    "ax[0].set_xlabel(\"\")\n",
    "ax[0].set_ylabel(\"\")\n",
    "\n",
    "sns.barplot(x=\"\", y=\"\", data=df, ax=ax[1])\n",
    "ax[1].set_title('Title of the second chart')\n",
    "#ax[1].tick_params('x', labelrotation=45)\n",
    "ax[1].set_xlabel(\"\")\n",
    "ax[1].set_ylabel(\"\")\n",
    "\n",
    "sns.barplot(x=\"\", y=\"\", data=df, ax=ax[2])\n",
    "ax[2].set_title('Title of the third chart')\n",
    "#ax[2].tick_params('x', labelrotation=45)\n",
    "ax[2].set_xlabel(\"\")\n",
    "ax[2].set_ylabel(\"\")\n",
    "\n",
    "sns.barplot(x=\"\", y=\"\", data=df, ax=ax[3])\n",
    "ax[3].set_title('Title of the fourth chart')\n",
    "#ax[3].tick_params('x', labelrotation=45)\n",
    "ax[3].set_xlabel(\"\")\n",
    "ax[3].set_ylabel(\"\")\n",
    "\n",
    "plt.show()"
   ]
  },
  {
   "cell_type": "code",
   "execution_count": null,
   "metadata": {},
   "outputs": [],
   "source": [
    "# Plot 1 rows and 2 columns (can be expanded)\n",
    "\n",
    "fig, ax = plt.subplots(1,2, sharex=False, figsize=(16,5))\n",
    "fig.suptitle('Main Title')\n",
    "\n",
    "sns.countplot(x=\"\", data=df, hue=, ax=ax[0])\n",
    "ax[0].set_title('Title of the first chart')\n",
    "ax[0].tick_params('x', labelrotation=45)\n",
    "ax[0].set_xlabel(\"\")\n",
    "ax[0].set_ylabel(\"\")\n",
    "\n",
    "sns.countplot(x=\"\", data=df, hue=, ax=ax[1])\n",
    "ax[1].set_title('Title of the second chart')\n",
    "ax[1].tick_params('x', labelrotation=45)\n",
    "ax[1].set_xlabel(\"\")\n",
    "ax[1].set_ylabel(\"\")\n",
    "\n",
    "plt.show()"
   ]
  },
  {
   "cell_type": "code",
   "execution_count": null,
   "metadata": {},
   "outputs": [],
   "source": [
    "#Plot 2 by 2 subplots\n",
    "\n",
    "fig, ((ax1, ax2), (ax3, ax4)) = plt.subplots(2,2, sharex=False, figsize=(20,20))\n",
    "fig.suptitle('Main Title', y=0.5)\n",
    "\n",
    "sns.countplot(x=\"\", data=df, ax=ax1)\n",
    "ax1.set_title('Title of the first chart', size=20)\n",
    "#ax1.tick_params('x', labelrotation=45)\n",
    "ax1.set_xlabel(\"\")\n",
    "ax1.set_ylabel(\"\")\n",
    "\n",
    "sns.countplot(x=\"\", data=df, ax=ax2)\n",
    "ax2.set_title('Title of the second chart', size=20)\n",
    "#ax2.tick_params('x', labelrotation=45)\n",
    "ax2.set_xlabel(\"\")\n",
    "ax2.set_ylabel(\"\")\n",
    "\n",
    "sns.countplot(x=\"\", data=df, ax=ax3)\n",
    "ax3.set_title('Title of the third chart', size=20)\n",
    "#ax3.tick_params('x', labelrotation=45)\n",
    "ax3.set_xlabel(\"\")\n",
    "ax3.set_ylabel(\"\")\n",
    "\n",
    "sns.countplot(x=\"\", data=df, ax=ax4)\n",
    "ax4.set_title('Title of the fourth chart', size=20)\n",
    "#ax4.tick_params('x', labelrotation=45)\n",
    "ax4.set_xlabel(\"\")\n",
    "ax4.set_ylabel(\"\")\n",
    "\n",
    "plt.show()"
   ]
  },
  {
   "cell_type": "code",
   "execution_count": null,
   "metadata": {},
   "outputs": [],
   "source": [
    "fig = plt.figure(figsize=(20,40))\n",
    "\n",
    "plt.subplot(4,2,1)\n",
    "plt.title(\"\", size=20)\n",
    "sns.countplot()\n",
    "plt.xlabel(\"\")\n",
    "plt.ylabel(\"\")\n",
    "\n",
    "plt.subplot(4,2,2)\n",
    "plt.title(\"\", size=20)\n",
    "sns.barplot()\n",
    "plt.xlabel(\"\")\n",
    "plt.ylabel(\"\")\n",
    "\n",
    "plt.subplot(4,2,3)\n",
    "plt.title(\"\", size=20)\n",
    "sns.scatterplot()\n",
    "plt.xlabel(\"\")\n",
    "plt.ylabel(\"\")\n",
    "\n",
    "plt.subplot(4,2,4)\n",
    "plt.title(\"\", size=20)\n",
    "sns.boxplot()\n",
    "plt.xlabel(\"\")\n",
    "plt.ylabel(\"\")\n",
    "\n",
    "plt.tight_layout()\n",
    "plt.show()"
   ]
  },
  {
   "cell_type": "code",
   "execution_count": null,
   "metadata": {},
   "outputs": [],
   "source": [
    "plt.figure(figsize=(20,20))\n",
    "\n",
    "\n",
    "g = sns.catplot(x='', hue = '', row = '',\n",
    "            kind='count', data=ratings_df,\n",
    "            height = 3, aspect = 1)\n",
    "\n",
    "g.set_xlabels(\"\")\n",
    "g.set_ylabels(\"\")\n",
    "#g = (g.set_axis_labels(\"Tip\",\"Total bill(USD)\").set(xlim=(0,10),ylim=(0,100)\n",
    "\n",
    "\n",
    "g.set(xlim=(0,None))\n",
    "g.set_xticklabels(rotation=90)\n",
    "\n",
    "plt.suptitle('', x=0.5, y=1.02, ha='center', fontsize=20)\n",
    "\n",
    "plt.show()"
   ]
  },
  {
   "cell_type": "code",
   "execution_count": null,
   "metadata": {},
   "outputs": [],
   "source": [
    "plt.figure(figsize=(20,20))\n",
    "\n",
    "sns.catplot(x=\"calories\", y=\"restaurant\",\n",
    "\n",
    "                hue=\"is_salad\", ci=None,\n",
    "\n",
    "                data=df_calories, color=None, linewidth=3, showfliers = False,\n",
    "\n",
    "                orient=\"h\", height=20, aspect=1, palette=None,\n",
    "\n",
    "                kind=\"box\", dodge=True)\n",
    "\n",
    "plt.xlabel(\"\", size=20)\n",
    "plt.ylabel(\"\", size=20)\n",
    "plt.suptitle('', x=0.5, y=1.02, ha='center', fontsize=20)\n",
    "plt.show()"
   ]
  },
  {
   "cell_type": "code",
   "execution_count": null,
   "metadata": {},
   "outputs": [],
   "source": [
    "plt.figure(figsize=(20,20))\n",
    "\n",
    "sns.relplot(x=\"age\", y=\"eval\", hue=\"gender\",\n",
    "            row=\"tenure\",\n",
    "            data=ratings_df, height = 3, aspect = 2)\n",
    "\n",
    "plt.xlabel(\"\", size=20)\n",
    "plt.ylabel(\"\", size=20)\n",
    "plt.suptitle('', x=0.5, y=1.02, ha='center', fontsize=20)\n",
    "plt.show()"
   ]
  },
  {
   "cell_type": "markdown",
   "metadata": {},
   "source": [
    "## Time-Series Analysis"
   ]
  },
  {
   "cell_type": "code",
   "execution_count": null,
   "metadata": {},
   "outputs": [],
   "source": [
    "timeseries = df[['date','extraction','month', 'day']]"
   ]
  },
  {
   "cell_type": "code",
   "execution_count": null,
   "metadata": {},
   "outputs": [],
   "source": [
    "timeseries"
   ]
  },
  {
   "cell_type": "code",
   "execution_count": null,
   "metadata": {},
   "outputs": [],
   "source": [
    "timeseries.info()"
   ]
  },
  {
   "cell_type": "code",
   "execution_count": null,
   "metadata": {},
   "outputs": [],
   "source": [
    "fig = plt.figure(figsize=(30,10))\n",
    "sns.lineplot(x=df.date,y=df.amount,data=df, estimator=None)\n",
    "plt.title(\"\", fontsize=20)\n",
    "plt.xlabel(\"\", fontsize=20)\n",
    "plt.ylabel(\"\", fontsize=20)\n",
    "plt.legend(['',''])\n",
    "plt.show()"
   ]
  },
  {
   "cell_type": "code",
   "execution_count": null,
   "metadata": {},
   "outputs": [],
   "source": [
    "fig = plt.figure(figsize=(30,10))\n",
    "sns.lineplot(x=df.month,y=df.amount,data=df, estimator=None)\n",
    "plt.title(\"\", fontsize=20)\n",
    "plt.xlabel(\"\", fontsize=20)\n",
    "plt.ylabel(\"\", fontsize=20)\n",
    "plt.legend(['',''])\n",
    "plt.show()"
   ]
  },
  {
   "cell_type": "code",
   "execution_count": null,
   "metadata": {},
   "outputs": [],
   "source": [
    "fig = plt.figure(figsize=(30,10))\n",
    "sns.lineplot(x=df.month,y=df.amount,data=df, estimator=None)\n",
    "plt.title(\"\", fontsize=20)\n",
    "plt.xlabel(\"\", fontsize=20)\n",
    "plt.ylabel(\"\", fontsize=20)\n",
    "plt.legend(['',''])\n",
    "plt.show()"
   ]
  },
  {
   "cell_type": "markdown",
   "metadata": {},
   "source": [
    "### Pairplots"
   ]
  },
  {
   "cell_type": "code",
   "execution_count": null,
   "metadata": {},
   "outputs": [],
   "source": [
    "plt.figure(figsize=(20,20))\n",
    "plt.suptitle('Pairplots of features', x=0.5, y=1.02, ha='center', fontsize=20)\n",
    "sns.pairplot(df.sample(500))\n",
    "plt.show()"
   ]
  },
  {
   "cell_type": "markdown",
   "metadata": {},
   "source": [
    "## Bivariate Data Exploration"
   ]
  },
  {
   "cell_type": "code",
   "execution_count": null,
   "metadata": {},
   "outputs": [],
   "source": [
    "sns.jointplot(x='', y='',data=df, kind='scatter')\n",
    "\n",
    "sns.jointplot(x='', y='',data=df, kind='scatter')\n",
    "\n",
    "sns.jointplot(x='', y='',data=df, kind='scatter')\n",
    "\n",
    "sns.jointplot(x='', y='',data=df, kind='scatter')\n",
    "\n",
    "sns.jointplot(x='', y='',data=df, kind='kde')\n",
    "\n",
    "sns.jointplot(x='', y='',data=df, kind='kde')\n",
    "\n",
    "sns.jointplot(x='', y='',data=df, kind='hex')\n",
    "\n",
    "sns.jointplot(x='', y='',data=df, kind='hex')\n",
    "\n",
    "sns.jointplot(x='', y='',data=df, kind='reg',scatter_kws={'color':'k'},line_kws={'color':'red'})\n",
    "\n",
    "sns.jointplot(x='', y='',data=df, kind='reg',scatter_kws={'color':'k'},line_kws={'color':'red'})\n",
    "\n",
    "sns.lmplot(x='num_items', y='total_value', data=df, scatter_kws={'s': 1, 'alpha': 0.1}, height=5, aspect=1,\n",
    "           line_kws={'lw': 2, 'color': 'red'})\n",
    "\n",
    "sns.lmplot(x='num_items', y='total_value', data=df, scatter_kws={'s': 1, 'alpha': 0.1}, height=5, aspect=1,\n",
    "           line_kws={'lw': 2, 'color': 'red'})\n",
    "\n",
    "plt.tight_layout()\n",
    "plt.show()"
   ]
  },
  {
   "cell_type": "markdown",
   "metadata": {},
   "source": [
    "### Regression plot"
   ]
  },
  {
   "cell_type": "code",
   "execution_count": null,
   "metadata": {},
   "outputs": [],
   "source": [
    "line_color = {'color': 'red'}\n",
    "fig , ax = plt.subplots(2,2, figsize=(20,20))\n",
    "\n",
    "#Feature\n",
    "\n",
    "ax1 = sns.regplot(x=X_test.bmi, y=lr_pred, line_kws=line_color, ax=ax[0,0])\n",
    "ax1.set_xlabel(\"x\")\n",
    "ax1.set_ylabel(\"y\")\n",
    "ax1.set_title(\"Plot 1\", size=15)\n",
    "\n",
    "#Feature\n",
    "\n",
    "ax2 = sns.regplot(x=X_test.s5, y=lr_pred, line_kws=line_color, ax=ax[0,1])\n",
    "ax2.set_xlabel(\"x\")\n",
    "ax2.set_ylabel(\"y\")\n",
    "ax2.set_title(\"Plot 2\", size=15)\n",
    "\n",
    "#Feature\n",
    "\n",
    "ax3 = sns.regplot(x=X_test.bp, y=lr_pred, line_kws=line_color, ax=ax[1,0])\n",
    "ax3.set_xlabel(\"x\")\n",
    "ax3.set_ylabel(\"y\")\n",
    "ax3.set_title(\"Plot 3\", size=15)\n",
    "\n",
    "#Feature\n",
    "\n",
    "ax4 = sns.regplot(x=X_test.s4, y=lr_pred, line_kws=line_color, ax=ax[1,1])\n",
    "ax4.set_xlabel(\"x\")\n",
    "ax4.set_ylabel(\"y\")\n",
    "ax4.set_title(\"Plot 4\", size=15)\n",
    "plt.suptitle('Regression Plots', x=0.5, y=0.9, ha='center', fontsize=20)\n",
    "plt.show()"
   ]
  },
  {
   "cell_type": "markdown",
   "metadata": {},
   "source": [
    "### FacetGrid"
   ]
  },
  {
   "cell_type": "code",
   "execution_count": null,
   "metadata": {},
   "outputs": [],
   "source": [
    "g = sns.FacetGrid(data=df, col=\"column_name\", height=3, aspect=1)\n",
    "g.map(plt.scatter, \"numeric\", \"numeric\")\n",
    "g.add_legend()\n",
    "plt.show()"
   ]
  },
  {
   "cell_type": "markdown",
   "metadata": {},
   "source": [
    "## Geospatial Analysis"
   ]
  },
  {
   "cell_type": "code",
   "execution_count": null,
   "metadata": {},
   "outputs": [],
   "source": [
    "mapping = usa_stores[['City','Latitude','Longtitude','Sentiment','Revenue']]\n",
    "mapping"
   ]
  },
  {
   "cell_type": "code",
   "execution_count": null,
   "metadata": {},
   "outputs": [],
   "source": [
    "m = folium.Map(location=[37.090240,-95.712891], zoom_start=5)\n",
    "m"
   ]
  },
  {
   "cell_type": "code",
   "execution_count": null,
   "metadata": {},
   "outputs": [],
   "source": [
    "map_df = pd.DataFrame(mapping.groupby([\"City\",\"Latitude\",\"Longtitude\"]).mean())\n",
    "map_df"
   ]
  },
  {
   "cell_type": "code",
   "execution_count": null,
   "metadata": {},
   "outputs": [],
   "source": [
    "folium.Marker(location=[33.76,-84.42], popup=\"Atlanta\", tooltip=\"Sentiment=83.69, Revenue=292.57\").add_to(m)\n",
    "folium.Marker(location=[36.23,-115.27], popup=\"Las Vegas\", tooltip=\"Sentiment=83.72, Revenue=187.40\").add_to(m)\n",
    "folium.Marker(location=[34.11,-118.41], popup=\"Los Angeles\", tooltip=\"Sentiment=83.75, Revenue=255.95\").add_to(m)\n",
    "folium.Marker(location=[40.69,-73.92], popup=\"New York\", tooltip=\"Sentiment=83.71, Revenue=328.38\").add_to(m)\n",
    "folium.Marker(location=[32.83,-117.12], popup=\"San Diego\", tooltip=\"Sentiment=83.70, Revenue=272.93\").add_to(m)\n",
    "\n",
    "m"
   ]
  },
  {
   "cell_type": "code",
   "execution_count": null,
   "metadata": {},
   "outputs": [],
   "source": [
    "m.save(\"filename.html\")"
   ]
  },
  {
   "cell_type": "code",
   "execution_count": null,
   "metadata": {},
   "outputs": [],
   "source": []
  },
  {
   "cell_type": "code",
   "execution_count": null,
   "metadata": {},
   "outputs": [],
   "source": [
    "state_geo = f\"malaysia.geojson\""
   ]
  },
  {
   "cell_type": "code",
   "execution_count": null,
   "metadata": {},
   "outputs": [],
   "source": [
    "map2 = folium.Map(location=[4.210484,108.975766], zoom_start=6)"
   ]
  },
  {
   "cell_type": "markdown",
   "metadata": {},
   "source": [
    "And now to create a `Choropleth` map, we will use the *choropleth* method with the following main parameters:\n",
    "\n",
    "1.  `geo_data`, which is the GeoJSON file.\n",
    "2.  `data`, which is the dataframe containing the data.\n",
    "3.  `columns`, which represents the columns in the dataframe that will be used to create the `Choropleth` map.\n",
    "4.  `key_on`, which is the key or variable in the GeoJSON file that contains the name of the variable of interest. To determine that, you will need to open the GeoJSON file using any text editor and note the name of the key or variable that contains the name of the countries, since the countries are our variable of interest. In this case, **name** is the key in the GeoJSON file that contains the name of the countries. Note that this key is case_sensitive, so you need to pass exactly as it exists in the GeoJSON file."
   ]
  },
  {
   "cell_type": "code",
   "execution_count": null,
   "metadata": {},
   "outputs": [],
   "source": [
    "folium.Choropleth(geo_data=state_geo, name=\"choropleth\").add_to(map2)"
   ]
  },
  {
   "cell_type": "markdown",
   "metadata": {},
   "source": [
    "### Correlation"
   ]
  },
  {
   "cell_type": "code",
   "execution_count": null,
   "metadata": {},
   "outputs": [],
   "source": [
    "df.corr()"
   ]
  },
  {
   "cell_type": "code",
   "execution_count": null,
   "metadata": {},
   "outputs": [],
   "source": [
    "df.corr()[\"target\"].sort_values()"
   ]
  },
  {
   "cell_type": "code",
   "execution_count": null,
   "metadata": {},
   "outputs": [],
   "source": [
    "plt.figure(figsize=(16,9))\n",
    "sns.heatmap(df.corr(),cmap=\"coolwarm\",annot=True,fmt='.2f',linewidths=2)\n",
    "plt.title(\"\", fontsize=20)\n",
    "plt.show()"
   ]
  },
  {
   "cell_type": "markdown",
   "metadata": {},
   "source": [
    "## Hypothesis Testing"
   ]
  },
  {
   "cell_type": "markdown",
   "metadata": {},
   "source": [
    "The goal of hypothesis testing is to answer the question, “Given a sample and an apparent effect, what is the probability of seeing such an effect by chance?” The first step is to quantify the size of the apparent effect by choosing a test statistic (t-test, ANOVA, etc). The next step is to define a null hypothesis, which is a model of the system based on the assumption that the apparent effect is not real. Then compute the p-value, which is the probability of the null hypothesis being true, and finally interpret the result of the p-value, if the value is low, the effect is said to be statistically significant, which means that the null hypothesis may not be accurate."
   ]
  },
  {
   "cell_type": "markdown",
   "metadata": {},
   "source": [
    "### T-Test"
   ]
  },
  {
   "cell_type": "markdown",
   "metadata": {},
   "source": [
    "We will be using the t-test for independent samples. For the independent t-test, the following assumptions must be met.\n",
    "\n",
    "-   One independent, categorical variable with two levels or group\n",
    "-   One dependent continuous variable\n",
    "-   Independence of the observations. Each subject should belong to only one group. There is no relationship between the observations in each group.\n",
    "-   The dependent variable must follow a normal distribution\n",
    "-   Assumption of homogeneity of variance\n"
   ]
  },
  {
   "cell_type": "markdown",
   "metadata": {},
   "source": [
    "State the hypothesis\n",
    "\n",
    "-   $H_0: µ\\_1 = µ\\_2$ (\"there is no difference in evaluation scores between male and females\")\n",
    "-   $H_1: µ\\_1 ≠ µ\\_2$ (\"there is a difference in evaluation scores between male and females\")\n"
   ]
  },
  {
   "cell_type": "markdown",
   "metadata": {},
   "source": [
    "### Levene's Test"
   ]
  },
  {
   "cell_type": "code",
   "execution_count": null,
   "metadata": {},
   "outputs": [],
   "source": [
    "scipy.stats.levene(ratings_df[ratings_df['gender'] == 'female']['eval'],\n",
    "                   ratings_df[ratings_df['gender'] == 'male']['eval'], center='mean')"
   ]
  },
  {
   "cell_type": "markdown",
   "metadata": {},
   "source": [
    "## T-Test"
   ]
  },
  {
   "cell_type": "markdown",
   "metadata": {},
   "source": [
    "### One Sample T-Test"
   ]
  },
  {
   "cell_type": "code",
   "execution_count": null,
   "metadata": {},
   "outputs": [],
   "source": [
    "t, p = scipy.stats.ttest_1samp(a=df.dose, popmean=1.166667)"
   ]
  },
  {
   "cell_type": "code",
   "execution_count": null,
   "metadata": {},
   "outputs": [],
   "source": [
    "print(\"T-test value is: \", t)\n",
    "print(\"p-value value is: \", p)"
   ]
  },
  {
   "cell_type": "markdown",
   "metadata": {},
   "source": [
    "### Two Samples T-Test"
   ]
  },
  {
   "cell_type": "code",
   "execution_count": null,
   "metadata": {},
   "outputs": [],
   "source": [
    "t, p = scipy.stats.ttest_ind(a=df.len,b=df.dose, equal_var = True/False)"
   ]
  },
  {
   "cell_type": "code",
   "execution_count": null,
   "metadata": {},
   "outputs": [],
   "source": [
    "print(\"T-test value is: \",t)\n",
    "print(\"p-value value is: \",p)"
   ]
  },
  {
   "cell_type": "markdown",
   "metadata": {},
   "source": [
    "### ANOVA"
   ]
  },
  {
   "cell_type": "markdown",
   "metadata": {},
   "source": [
    "First, we group the data into cateries as the one-way ANOVA can't work with continuous variable - using the example from the video, we will create a new column for this newly assigned group our categories will be teachers that are:\n",
    "\n",
    "-   40 years and younger\n",
    "-   between 40 and 57 years\n",
    "-   57 years and older\n"
   ]
  },
  {
   "cell_type": "markdown",
   "metadata": {},
   "source": [
    "State the hypothesis\n",
    "\n",
    "-   $H_0: µ\\_1 = µ\\_2 = µ\\_3$ (the three population means are equal)\n",
    "-   $H_1:$ At least one of the means differ\n"
   ]
  },
  {
   "cell_type": "markdown",
   "metadata": {},
   "source": [
    "### One Way ANOVA"
   ]
  },
  {
   "cell_type": "code",
   "execution_count": null,
   "metadata": {},
   "outputs": [],
   "source": [
    "mod = ols('len~supp', data=df).fit()"
   ]
  },
  {
   "cell_type": "code",
   "execution_count": null,
   "metadata": {},
   "outputs": [],
   "source": [
    "aov_table = sm.stats.anova_lm(mod,typ=2)"
   ]
  },
  {
   "cell_type": "code",
   "execution_count": null,
   "metadata": {},
   "outputs": [],
   "source": [
    "aov_table"
   ]
  },
  {
   "cell_type": "code",
   "execution_count": null,
   "metadata": {},
   "outputs": [],
   "source": [
    "f_statistic, p_value = scipy.stats.f_oneway(forty_lower, forty_fiftyseven, fiftyseven_older)\n",
    "print(\"F_Statistic: {0}, P-Value: {1}\".format(f_statistic,p_value))"
   ]
  },
  {
   "cell_type": "markdown",
   "metadata": {},
   "source": [
    "### Two-way ANOVA"
   ]
  },
  {
   "cell_type": "code",
   "execution_count": null,
   "metadata": {},
   "outputs": [],
   "source": [
    "mod1 = ols('len~supp+dose', data=df).fit()"
   ]
  },
  {
   "cell_type": "code",
   "execution_count": null,
   "metadata": {},
   "outputs": [],
   "source": [
    "aov1 = sm.stats.anova_lm(mod1,typ=2)"
   ]
  },
  {
   "cell_type": "code",
   "execution_count": null,
   "metadata": {},
   "outputs": [],
   "source": [
    "aov1"
   ]
  },
  {
   "cell_type": "markdown",
   "metadata": {},
   "source": [
    "### Chi-square"
   ]
  },
  {
   "cell_type": "markdown",
   "metadata": {},
   "source": [
    "State the hypothesis:\n",
    "\n",
    "-   $H_0:$ The proportion of teachers who are tenured is independent of gender\n",
    "-   $H_1:$ The proportion of teachers who are tenured is associated with gender"
   ]
  },
  {
   "cell_type": "code",
   "execution_count": null,
   "metadata": {},
   "outputs": [],
   "source": [
    "#Create a Cross-tab table\n",
    "\n",
    "cont_table  = pd.crosstab(ratings_df['tenure'], ratings_df['gender'])\n",
    "cont_table"
   ]
  },
  {
   "cell_type": "code",
   "execution_count": null,
   "metadata": {},
   "outputs": [],
   "source": [
    "scipy.stats.chi2_contingency(cont_table, correction = True)"
   ]
  },
  {
   "cell_type": "code",
   "execution_count": null,
   "metadata": {},
   "outputs": [],
   "source": [
    "chi_square = scipy.stats.chi2_contingency(cont_table, correction = True)"
   ]
  },
  {
   "cell_type": "code",
   "execution_count": null,
   "metadata": {},
   "outputs": [],
   "source": [
    "print(f\"Chi score is\", chi_square[0])"
   ]
  },
  {
   "cell_type": "code",
   "execution_count": null,
   "metadata": {},
   "outputs": [],
   "source": [
    "print(\"P-value is\", chi_square[1])"
   ]
  },
  {
   "cell_type": "code",
   "execution_count": null,
   "metadata": {},
   "outputs": [],
   "source": [
    "print(\"Degrees of freedom is\", chi_square[2])"
   ]
  },
  {
   "cell_type": "markdown",
   "metadata": {},
   "source": [
    "### Correlation"
   ]
  },
  {
   "cell_type": "markdown",
   "metadata": {},
   "source": [
    "State the hypothesis:\n",
    "\n",
    "-   $H_0:$ Teaching evaluation score is not correlated with beauty score\n",
    "-   $H_1:$ Teaching evaluation score is correlated with beauty score\n"
   ]
  },
  {
   "cell_type": "code",
   "execution_count": null,
   "metadata": {},
   "outputs": [],
   "source": [
    "pearson_correlation = scipy.stats.pearsonr(ratings_df['beauty'], ratings_df['eval'])"
   ]
  },
  {
   "cell_type": "code",
   "execution_count": null,
   "metadata": {},
   "outputs": [],
   "source": [
    "print(\"Pearson's correlation coefficient is\", pearson_correlation[0])"
   ]
  },
  {
   "cell_type": "code",
   "execution_count": null,
   "metadata": {},
   "outputs": [],
   "source": [
    "print(\"P-value is\", pearson_correlation[1])"
   ]
  },
  {
   "cell_type": "markdown",
   "metadata": {},
   "source": [
    "## Data Preprocessing"
   ]
  },
  {
   "cell_type": "markdown",
   "metadata": {},
   "source": [
    "### Feature Engineering"
   ]
  },
  {
   "cell_type": "code",
   "execution_count": null,
   "metadata": {},
   "outputs": [],
   "source": []
  },
  {
   "cell_type": "code",
   "execution_count": null,
   "metadata": {},
   "outputs": [],
   "source": []
  },
  {
   "cell_type": "markdown",
   "metadata": {},
   "source": [
    "### Equal Width Discretization"
   ]
  },
  {
   "cell_type": "code",
   "execution_count": null,
   "metadata": {},
   "outputs": [],
   "source": [
    "df[\"demoscorecat\"] = df[\"polityscore\"] #Make a copy"
   ]
  },
  {
   "cell_type": "code",
   "execution_count": null,
   "metadata": {},
   "outputs": [],
   "source": [
    "disc = EqualWidthDiscretiser(bins=4, variables=['demoscorecat'], return_object=True)"
   ]
  },
  {
   "cell_type": "code",
   "execution_count": null,
   "metadata": {},
   "outputs": [],
   "source": [
    "disc"
   ]
  },
  {
   "cell_type": "code",
   "execution_count": null,
   "metadata": {},
   "outputs": [],
   "source": [
    "disc.fit(df)"
   ]
  },
  {
   "cell_type": "code",
   "execution_count": null,
   "metadata": {},
   "outputs": [],
   "source": [
    "disc.binner_dict_"
   ]
  },
  {
   "cell_type": "code",
   "execution_count": null,
   "metadata": {},
   "outputs": [],
   "source": [
    "df2 = disc.fit_transform(df)\n",
    "df2.head()"
   ]
  },
  {
   "cell_type": "code",
   "execution_count": null,
   "metadata": {},
   "outputs": [],
   "source": [
    "df2[\"demoscorecat\"].value_counts().plot.bar()\n",
    "plt.show()"
   ]
  },
  {
   "cell_type": "markdown",
   "metadata": {},
   "source": [
    "### Equal Frequency Discretizer"
   ]
  },
  {
   "cell_type": "code",
   "execution_count": null,
   "metadata": {},
   "outputs": [],
   "source": [
    "df2[\"co2cat\"] = df2[\"co2emissions\"] #Make a copy"
   ]
  },
  {
   "cell_type": "code",
   "execution_count": null,
   "metadata": {},
   "outputs": [],
   "source": [
    "disc = EqualFrequencyDiscretiser(q=5, variables=['co2cat'])"
   ]
  },
  {
   "cell_type": "code",
   "execution_count": null,
   "metadata": {},
   "outputs": [],
   "source": [
    "disc.fit(df2)"
   ]
  },
  {
   "cell_type": "code",
   "execution_count": null,
   "metadata": {},
   "outputs": [],
   "source": [
    "disc.binner_dict_"
   ]
  },
  {
   "cell_type": "code",
   "execution_count": null,
   "metadata": {},
   "outputs": [],
   "source": [
    "df3 = disc.transform(df2)\n",
    "df3.head()"
   ]
  },
  {
   "cell_type": "code",
   "execution_count": null,
   "metadata": {},
   "outputs": [],
   "source": [
    "df3[\"co2cat\"].value_counts().plot.bar()\n",
    "plt.show()"
   ]
  },
  {
   "cell_type": "markdown",
   "metadata": {},
   "source": [
    "### Discretisation + OrdinalEncoder"
   ]
  },
  {
   "cell_type": "code",
   "execution_count": null,
   "metadata": {},
   "outputs": [],
   "source": [
    "### Choose which columns to be discretized first\n",
    "df3[\"incomecat\"] = df3[\"incomeperperson\"] #Make a copy\n",
    "df3[\"alccat\"] = df3[\"alcconsumption\"] #Make a copy"
   ]
  },
  {
   "cell_type": "code",
   "execution_count": null,
   "metadata": {},
   "outputs": [],
   "source": [
    "df3.head()"
   ]
  },
  {
   "cell_type": "code",
   "execution_count": null,
   "metadata": {},
   "outputs": [],
   "source": [
    "# to encode variables we need them returned as objects for feature-engine\n",
    "disc = EqualFrequencyDiscretiser(q=5, variables=['incomecat','alccat'], return_object=True)"
   ]
  },
  {
   "cell_type": "code",
   "execution_count": null,
   "metadata": {},
   "outputs": [],
   "source": [
    "df4 = disc.fit_transform(df3)\n",
    "df4.head()"
   ]
  },
  {
   "cell_type": "code",
   "execution_count": null,
   "metadata": {},
   "outputs": [],
   "source": [
    "df4[\"incomecat\"].value_counts().plot.bar()\n",
    "df4[\"alccat\"].value_counts().plot.bar()\n",
    "plt.show()"
   ]
  },
  {
   "cell_type": "code",
   "execution_count": null,
   "metadata": {},
   "outputs": [],
   "source": [
    "# Set y = target variable, and x = independant variables (both must be objects)"
   ]
  },
  {
   "cell_type": "code",
   "execution_count": null,
   "metadata": {},
   "outputs": [],
   "source": [
    "df5 = df4[['demoscorecat','incomecat', 'alccat']]\n",
    "df5.head()"
   ]
  },
  {
   "cell_type": "code",
   "execution_count": null,
   "metadata": {},
   "outputs": [],
   "source": [
    "df5.dtypes"
   ]
  },
  {
   "cell_type": "code",
   "execution_count": null,
   "metadata": {},
   "outputs": [],
   "source": [
    "df5.groupby('incomecat')['demoscorecat'].mean().plot()\n",
    "plt.show()"
   ]
  },
  {
   "cell_type": "code",
   "execution_count": null,
   "metadata": {},
   "outputs": [],
   "source": [
    "df5.groupby('alccat')['demoscorecat'].mean().plot()\n",
    "plt.show()"
   ]
  },
  {
   "cell_type": "code",
   "execution_count": null,
   "metadata": {},
   "outputs": [],
   "source": [
    "enc = OrdinalEncoder(encoding_method = 'ordered')"
   ]
  },
  {
   "cell_type": "code",
   "execution_count": null,
   "metadata": {},
   "outputs": [],
   "source": [
    "X = df5[['incomecat', 'alccat']]"
   ]
  },
  {
   "cell_type": "code",
   "execution_count": null,
   "metadata": {},
   "outputs": [],
   "source": [
    "y = df5['demoscorecat']"
   ]
  },
  {
   "cell_type": "code",
   "execution_count": null,
   "metadata": {},
   "outputs": [],
   "source": [
    "enc.fit(X, y)"
   ]
  },
  {
   "cell_type": "code",
   "execution_count": null,
   "metadata": {},
   "outputs": [],
   "source": [
    "X_transform = enc.transform(X)"
   ]
  },
  {
   "cell_type": "code",
   "execution_count": null,
   "metadata": {},
   "outputs": [],
   "source": [
    "enc.encoder_dict_"
   ]
  },
  {
   "cell_type": "code",
   "execution_count": null,
   "metadata": {},
   "outputs": [],
   "source": [
    "X_transform  # Transformed for monotonic relationship"
   ]
  },
  {
   "cell_type": "code",
   "execution_count": null,
   "metadata": {},
   "outputs": [],
   "source": [
    "pd.concat([X_transform, y], axis=1)"
   ]
  },
  {
   "cell_type": "code",
   "execution_count": null,
   "metadata": {},
   "outputs": [],
   "source": [
    "pd.concat([X_transform, y], axis=1).groupby('incomecat')['demoscorecat'].mean().plot()\n",
    "plt.show()"
   ]
  },
  {
   "cell_type": "markdown",
   "metadata": {},
   "source": [
    "### Discretisation with Decision Trees"
   ]
  },
  {
   "cell_type": "code",
   "execution_count": null,
   "metadata": {},
   "outputs": [],
   "source": [
    "df4['electricat'] = df4['relectricperperson'] #Make a copy"
   ]
  },
  {
   "cell_type": "code",
   "execution_count": null,
   "metadata": {},
   "outputs": [],
   "source": [
    "df4.head()"
   ]
  },
  {
   "cell_type": "code",
   "execution_count": null,
   "metadata": {},
   "outputs": [],
   "source": [
    "# Let y = demoscorecat, and x = electricat, breastcancerper100th\n",
    "\n",
    "df6 = df4[['breastcancerper100th','electricat','demoscorecat']]\n",
    "df6.head()"
   ]
  },
  {
   "cell_type": "code",
   "execution_count": null,
   "metadata": {},
   "outputs": [],
   "source": [
    "X = df6[['breastcancerper100th','electricat']]\n",
    "y = df6['demoscorecat']"
   ]
  },
  {
   "cell_type": "code",
   "execution_count": null,
   "metadata": {},
   "outputs": [],
   "source": [
    "# set up the decision tree discretiser indicating:\n",
    "# cross-validation number (cv)\n",
    "# how to evaluate model performance (scoring)\n",
    "# the variables we want to discretise (variables)\n",
    "# whether it is a target for regression or classification\n",
    "# and the grid with the parameters we want to test\n",
    "\n",
    "treeDisc = DecisionTreeDiscretiser(cv=5, scoring='accuracy', variables=['electricat'], regression=False,\n",
    "                                  param_grid={'max_depth':[1,2,3], 'min_samples_leaf':[2,4,6]})"
   ]
  },
  {
   "cell_type": "code",
   "execution_count": null,
   "metadata": {},
   "outputs": [],
   "source": [
    "treeDisc.fit(X,y)"
   ]
  },
  {
   "cell_type": "code",
   "execution_count": null,
   "metadata": {},
   "outputs": [],
   "source": [
    "treeDisc.binner_dict_['electricat'].best_params_"
   ]
  },
  {
   "cell_type": "code",
   "execution_count": null,
   "metadata": {},
   "outputs": [],
   "source": [
    "treeDisc.scores_dict_['electricat']"
   ]
  },
  {
   "cell_type": "code",
   "execution_count": null,
   "metadata": {},
   "outputs": [],
   "source": [
    "X_transform = treeDisc.transform(X) #Only electricat column"
   ]
  },
  {
   "cell_type": "code",
   "execution_count": null,
   "metadata": {},
   "outputs": [],
   "source": [
    "X_transform"
   ]
  },
  {
   "cell_type": "code",
   "execution_count": null,
   "metadata": {},
   "outputs": [],
   "source": [
    "X_transform.electricat.unique()"
   ]
  },
  {
   "cell_type": "code",
   "execution_count": null,
   "metadata": {},
   "outputs": [],
   "source": [
    "# monotonic relationship with target: train set\n",
    "\n",
    "pd.concat([X_transform, y],axis=1)"
   ]
  },
  {
   "cell_type": "markdown",
   "metadata": {},
   "source": [
    "### Drop unwanted features"
   ]
  },
  {
   "cell_type": "code",
   "execution_count": null,
   "metadata": {},
   "outputs": [],
   "source": [
    "df.columns"
   ]
  },
  {
   "cell_type": "code",
   "execution_count": null,
   "metadata": {},
   "outputs": [],
   "source": [
    "df.drop()"
   ]
  },
  {
   "cell_type": "markdown",
   "metadata": {},
   "source": [
    "### Treat Missing Values"
   ]
  },
  {
   "cell_type": "code",
   "execution_count": null,
   "metadata": {},
   "outputs": [],
   "source": [
    "df.isnull().sum()"
   ]
  },
  {
   "cell_type": "code",
   "execution_count": null,
   "metadata": {},
   "outputs": [],
   "source": [
    "df[''] = df[''].replace(np.nan,df.mean())"
   ]
  },
  {
   "cell_type": "code",
   "execution_count": null,
   "metadata": {},
   "outputs": [],
   "source": [
    "#imputer = mdi.MeanMedianImputer(imputation_method='median',variables=None)"
   ]
  },
  {
   "cell_type": "code",
   "execution_count": null,
   "metadata": {},
   "outputs": [],
   "source": [
    "#imputer.fit(df)"
   ]
  },
  {
   "cell_type": "code",
   "execution_count": null,
   "metadata": {},
   "outputs": [],
   "source": [
    "#df = imputer.transform(df)"
   ]
  },
  {
   "cell_type": "code",
   "execution_count": null,
   "metadata": {},
   "outputs": [],
   "source": [
    "df.isnull().sum()"
   ]
  },
  {
   "cell_type": "markdown",
   "metadata": {},
   "source": [
    "### Replacing values"
   ]
  },
  {
   "cell_type": "code",
   "execution_count": null,
   "metadata": {},
   "outputs": [],
   "source": [
    "df.replace()"
   ]
  },
  {
   "cell_type": "code",
   "execution_count": null,
   "metadata": {},
   "outputs": [],
   "source": []
  },
  {
   "cell_type": "markdown",
   "metadata": {},
   "source": [
    "### Rounding Values"
   ]
  },
  {
   "cell_type": "code",
   "execution_count": null,
   "metadata": {},
   "outputs": [],
   "source": [
    "###pandas.DataFrame.round\n",
    "df[['internetuserate']] = df[['internetuserate']].round(decimals=0)"
   ]
  },
  {
   "cell_type": "code",
   "execution_count": null,
   "metadata": {},
   "outputs": [],
   "source": []
  },
  {
   "cell_type": "markdown",
   "metadata": {},
   "source": [
    "### Treat Duplicate Values"
   ]
  },
  {
   "cell_type": "code",
   "execution_count": null,
   "metadata": {},
   "outputs": [],
   "source": [
    "df.duplicated(keep='first').sum()"
   ]
  },
  {
   "cell_type": "code",
   "execution_count": null,
   "metadata": {},
   "outputs": [],
   "source": [
    "df[df.duplicated(keep=False)] #Check duplicate values"
   ]
  },
  {
   "cell_type": "code",
   "execution_count": null,
   "metadata": {},
   "outputs": [],
   "source": [
    "df.drop_duplicates(ignore_index=True, inplace=True)"
   ]
  },
  {
   "cell_type": "code",
   "execution_count": null,
   "metadata": {},
   "outputs": [],
   "source": []
  },
  {
   "cell_type": "markdown",
   "metadata": {},
   "source": [
    "### Treat Outliers"
   ]
  },
  {
   "cell_type": "code",
   "execution_count": null,
   "metadata": {},
   "outputs": [],
   "source": [
    "df.columns"
   ]
  },
  {
   "cell_type": "code",
   "execution_count": null,
   "metadata": {},
   "outputs": [],
   "source": [
    "df.describe()"
   ]
  },
  {
   "cell_type": "code",
   "execution_count": null,
   "metadata": {},
   "outputs": [],
   "source": [
    "#windsorizer = Winsorizer(distribution='skewed',tail='both',fold=1.5, variables=[])"
   ]
  },
  {
   "cell_type": "code",
   "execution_count": null,
   "metadata": {},
   "outputs": [],
   "source": [
    "#windsorizer.fit(df)"
   ]
  },
  {
   "cell_type": "code",
   "execution_count": null,
   "metadata": {},
   "outputs": [],
   "source": [
    "#df2 = windsorizer.transform(df)"
   ]
  },
  {
   "cell_type": "code",
   "execution_count": null,
   "metadata": {},
   "outputs": [],
   "source": [
    "#df2"
   ]
  },
  {
   "cell_type": "code",
   "execution_count": null,
   "metadata": {},
   "outputs": [],
   "source": [
    "#df2.describe()"
   ]
  },
  {
   "cell_type": "code",
   "execution_count": null,
   "metadata": {},
   "outputs": [],
   "source": [
    "#windsorizer.left_tail_caps_"
   ]
  },
  {
   "cell_type": "code",
   "execution_count": null,
   "metadata": {},
   "outputs": [],
   "source": [
    "#windsorizer.right_tail_caps_"
   ]
  },
  {
   "cell_type": "markdown",
   "metadata": {},
   "source": [
    "### Type Change"
   ]
  },
  {
   "cell_type": "code",
   "execution_count": null,
   "metadata": {},
   "outputs": [],
   "source": [
    "df.info()"
   ]
  },
  {
   "cell_type": "code",
   "execution_count": null,
   "metadata": {},
   "outputs": [],
   "source": [
    "df[\"breastcancerper100th\"] = df[\"breastcancerper100th\"].astype('int')"
   ]
  },
  {
   "cell_type": "code",
   "execution_count": null,
   "metadata": {},
   "outputs": [],
   "source": [
    "df.info()"
   ]
  },
  {
   "cell_type": "markdown",
   "metadata": {},
   "source": [
    "### One-hot encoding"
   ]
  },
  {
   "cell_type": "code",
   "execution_count": null,
   "metadata": {},
   "outputs": [],
   "source": [
    "df.info()"
   ]
  },
  {
   "cell_type": "code",
   "execution_count": null,
   "metadata": {},
   "outputs": [],
   "source": [
    "df[\"has_gas\"] = pd.get_dummies(data=df[\"has_gas\"],drop_first=True)"
   ]
  },
  {
   "cell_type": "code",
   "execution_count": null,
   "metadata": {},
   "outputs": [],
   "source": []
  },
  {
   "cell_type": "markdown",
   "metadata": {},
   "source": [
    "### Save to CSV"
   ]
  },
  {
   "cell_type": "code",
   "execution_count": null,
   "metadata": {},
   "outputs": [],
   "source": [
    "df.to_csv(\"filename.csv\", index=False)"
   ]
  },
  {
   "cell_type": "markdown",
   "metadata": {},
   "source": [
    "## Regression Analysis"
   ]
  },
  {
   "cell_type": "markdown",
   "metadata": {},
   "source": [
    "### Linear Regression (StatsModel)"
   ]
  },
  {
   "cell_type": "code",
   "execution_count": null,
   "metadata": {},
   "outputs": [],
   "source": [
    "df.columns"
   ]
  },
  {
   "cell_type": "code",
   "execution_count": null,
   "metadata": {},
   "outputs": [],
   "source": [
    "y = df['ExpirationMonth']\n",
    "X = df['NumStores']"
   ]
  },
  {
   "cell_type": "code",
   "execution_count": null,
   "metadata": {},
   "outputs": [],
   "source": [
    "X = sm.add_constant(X)"
   ]
  },
  {
   "cell_type": "code",
   "execution_count": null,
   "metadata": {},
   "outputs": [],
   "source": [
    "model = sm.OLS(y,X).fit()"
   ]
  },
  {
   "cell_type": "code",
   "execution_count": null,
   "metadata": {},
   "outputs": [],
   "source": [
    "model.summary()"
   ]
  },
  {
   "cell_type": "code",
   "execution_count": null,
   "metadata": {},
   "outputs": [],
   "source": [
    "prediction = model.predict(x)"
   ]
  },
  {
   "cell_type": "code",
   "execution_count": null,
   "metadata": {},
   "outputs": [],
   "source": []
  },
  {
   "cell_type": "code",
   "execution_count": null,
   "metadata": {},
   "outputs": [],
   "source": [
    "linreg = smf.ols(formula='Lottery ~ Literacy + Wealth + Region', data=df).fit()"
   ]
  },
  {
   "cell_type": "markdown",
   "metadata": {},
   "source": [
    "### Residual Plots"
   ]
  },
  {
   "cell_type": "code",
   "execution_count": null,
   "metadata": {},
   "outputs": [],
   "source": [
    "fig = plt.figure(figsize=(12,8))\n",
    "fig = sm.graphics.plot_regress_exog(model, 'x_variables', fig=fig)"
   ]
  },
  {
   "cell_type": "code",
   "execution_count": null,
   "metadata": {},
   "outputs": [],
   "source": [
    "fig = plt.figure(figsize=(12,8))\n",
    "fig = sm.graphics.plot_ccpr(prestige_model, \"education\")\n",
    "fig.tight_layout(pad=1.0)"
   ]
  },
  {
   "cell_type": "markdown",
   "metadata": {},
   "source": [
    "### Linear Regression (SKLearn)"
   ]
  },
  {
   "cell_type": "code",
   "execution_count": null,
   "metadata": {},
   "outputs": [],
   "source": []
  },
  {
   "cell_type": "code",
   "execution_count": null,
   "metadata": {},
   "outputs": [],
   "source": []
  },
  {
   "cell_type": "code",
   "execution_count": null,
   "metadata": {},
   "outputs": [],
   "source": []
  },
  {
   "cell_type": "markdown",
   "metadata": {},
   "source": [
    "## Logistic Regression (StatsModel)"
   ]
  },
  {
   "cell_type": "code",
   "execution_count": null,
   "metadata": {},
   "outputs": [],
   "source": [
    "df.columns"
   ]
  },
  {
   "cell_type": "code",
   "execution_count": null,
   "metadata": {},
   "outputs": [],
   "source": [
    "y = df['']\n",
    "X = df['']"
   ]
  },
  {
   "cell_type": "code",
   "execution_count": null,
   "metadata": {},
   "outputs": [],
   "source": [
    "X = sm.add_constant(X)"
   ]
  },
  {
   "cell_type": "code",
   "execution_count": null,
   "metadata": {},
   "outputs": [],
   "source": [
    "model = sm.Logit(y, X).fit()"
   ]
  },
  {
   "cell_type": "code",
   "execution_count": null,
   "metadata": {},
   "outputs": [],
   "source": [
    "model.summary()"
   ]
  },
  {
   "cell_type": "code",
   "execution_count": null,
   "metadata": {},
   "outputs": [],
   "source": [
    "logitfit = smf.logit(formula = 'DF ~ Debt_Service_Coverage + cash_security_to_curLiab + TNW', data = hgc).fit()"
   ]
  },
  {
   "cell_type": "code",
   "execution_count": null,
   "metadata": {},
   "outputs": [],
   "source": [
    "logitfit = smf.logit(formula = 'DF ~ TNW + C(seg2)', data = hgcdev).fit()"
   ]
  },
  {
   "cell_type": "markdown",
   "metadata": {},
   "source": [
    "### Logistic Regression (SKLearn)"
   ]
  },
  {
   "cell_type": "code",
   "execution_count": null,
   "metadata": {},
   "outputs": [],
   "source": [
    "df.shape"
   ]
  },
  {
   "cell_type": "code",
   "execution_count": null,
   "metadata": {},
   "outputs": [],
   "source": [
    "X = df.iloc[:,:4]\n",
    "y = df.iloc[:,4]"
   ]
  },
  {
   "cell_type": "code",
   "execution_count": null,
   "metadata": {},
   "outputs": [],
   "source": [
    "Counter(y)"
   ]
  },
  {
   "cell_type": "code",
   "execution_count": null,
   "metadata": {},
   "outputs": [],
   "source": [
    "X.values, y.values"
   ]
  },
  {
   "cell_type": "code",
   "execution_count": null,
   "metadata": {},
   "outputs": [],
   "source": [
    "X_train, X_test, y_train, y_test = train_test_split(X.values, y.values, test_size=0.2, random_state=0, stratify=y)"
   ]
  },
  {
   "cell_type": "code",
   "execution_count": null,
   "metadata": {},
   "outputs": [],
   "source": [
    "X_train.shape, X_test.shape, y_train.shape, y_test.shape"
   ]
  },
  {
   "cell_type": "code",
   "execution_count": null,
   "metadata": {},
   "outputs": [],
   "source": [
    "Counter(y_train), Counter(y_test)"
   ]
  },
  {
   "cell_type": "code",
   "execution_count": null,
   "metadata": {},
   "outputs": [],
   "source": [
    "lr = LogisticRegression(random_state=0)"
   ]
  },
  {
   "cell_type": "code",
   "execution_count": null,
   "metadata": {},
   "outputs": [],
   "source": [
    "lr.fit(X_train,y_train)"
   ]
  },
  {
   "cell_type": "code",
   "execution_count": null,
   "metadata": {},
   "outputs": [],
   "source": [
    "lr.coef_"
   ]
  },
  {
   "cell_type": "code",
   "execution_count": null,
   "metadata": {},
   "outputs": [],
   "source": [
    "lr.intercept_"
   ]
  },
  {
   "cell_type": "code",
   "execution_count": null,
   "metadata": {},
   "outputs": [],
   "source": [
    "y_pred = lr.predict(X_test)"
   ]
  },
  {
   "cell_type": "code",
   "execution_count": null,
   "metadata": {},
   "outputs": [],
   "source": [
    "y_pred"
   ]
  },
  {
   "cell_type": "code",
   "execution_count": null,
   "metadata": {},
   "outputs": [],
   "source": [
    "print(classification_report(y_test,y_pred))"
   ]
  },
  {
   "cell_type": "code",
   "execution_count": null,
   "metadata": {},
   "outputs": [],
   "source": [
    "cm = confusion_matrix(y_test,y_pred)\n",
    "cm"
   ]
  },
  {
   "cell_type": "code",
   "execution_count": null,
   "metadata": {},
   "outputs": [],
   "source": [
    "plot_confusion_matrix(estimator=lr, X=X_test, y_true=y_test, cmap='YlGnBu')\n",
    "plt.show()"
   ]
  },
  {
   "cell_type": "code",
   "execution_count": null,
   "metadata": {},
   "outputs": [],
   "source": [
    "plot_roc_curve(estimator=lr, X=X_test, y=y_test)\n",
    "plt.show()"
   ]
  },
  {
   "cell_type": "code",
   "execution_count": null,
   "metadata": {},
   "outputs": [],
   "source": []
  },
  {
   "cell_type": "markdown",
   "metadata": {},
   "source": [
    "#### Python code done by Dennis Lam"
   ]
  },
  {
   "cell_type": "code",
   "execution_count": null,
   "metadata": {},
   "outputs": [],
   "source": []
  }
 ],
 "metadata": {
  "kernelspec": {
   "display_name": "Python 3",
   "language": "python",
   "name": "python3"
  },
  "language_info": {
   "codemirror_mode": {
    "name": "ipython",
    "version": 3
   },
   "file_extension": ".py",
   "mimetype": "text/x-python",
   "name": "python",
   "nbconvert_exporter": "python",
   "pygments_lexer": "ipython3",
   "version": "3.8.8"
  }
 },
 "nbformat": 4,
 "nbformat_minor": 4
}
